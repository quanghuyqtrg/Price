{
 "cells": [
  {
   "cell_type": "code",
   "execution_count": 1,
   "id": "initial_id",
   "metadata": {
    "collapsed": true,
    "ExecuteTime": {
     "end_time": "2024-09-24T14:54:50.938431Z",
     "start_time": "2024-09-24T14:54:45.548777Z"
    }
   },
   "outputs": [],
   "source": [
    "import numpy as np\n",
    "import pandas as pd\n",
    "import unicodedata\n",
    "import re\n",
    "import tensorflow as tf \n",
    "from sklearn.model_selection import train_test_split\n",
    "from sklearn.preprocessing import MinMaxScaler\n",
    "from sklearn.metrics import mean_squared_error\n",
    "from tensorflow.keras.layers import LSTM, Dense, Dropout\n",
    "from tensorflow.keras.initializers import GlorotUniform\n",
    "from tensorflow.keras.regularizers import l2\n",
    "from tensorflow.keras.optimizers import Adam\n"
   ]
  },
  {
   "cell_type": "code",
   "outputs": [],
   "source": [
    "data = pd.read_csv('output.csv')\n"
   ],
   "metadata": {
    "collapsed": false,
    "ExecuteTime": {
     "end_time": "2024-09-24T14:54:51.762471Z",
     "start_time": "2024-09-24T14:54:51.752126Z"
    }
   },
   "id": "6cf0a846ce98efd0",
   "execution_count": 2
  },
  {
   "cell_type": "code",
   "outputs": [
    {
     "name": "stdout",
     "output_type": "stream",
     "text": [
      "   province  district                   street  price_unit  price_value  \\\n",
      "0         1         5  Mặt phố C1 TT Nghĩa Tân           1         5.50   \n",
      "1         1         5                  Yên Hoà           1         8.58   \n",
      "2         1         5                 Cầu Giấy           1         8.65   \n",
      "3         1         5              Hồ Tùng Mậu           1        28.50   \n",
      "4         1         5                 Cầu Giấy           1         8.90   \n",
      "\n",
      "   price_absolute   area  type  front  room  toilet  floor  \\\n",
      "0          5500.0   70.0     1    7.0     2       2      1   \n",
      "1          8580.0   45.0     1    5.0     5       4      4   \n",
      "2          8650.0   43.0     1    3.6     6       1      5   \n",
      "3         28500.0  100.0     1    6.9    29       0      8   \n",
      "4          8900.0   35.0     1    3.4     6       2      5   \n",
      "\n",
      "                    attributes  Chung cư  Dòng tiền  Không rõ  Kinh doanh  \\\n",
      "0  Ô tô, Kinh doanh, Dòng tiền         0          1         0           1   \n",
      "1                         Ô tô         0          0         0           0   \n",
      "2                     Không rõ         0          0         1           0   \n",
      "3   Ô tô, Dòng tiền, Thang máy         0          1         0           0   \n",
      "4                     Không rõ         0          0         1           0   \n",
      "\n",
      "   Mặt phố  Thang máy  Ô tô  \n",
      "0        0          0     1  \n",
      "1        0          0     1  \n",
      "2        0          0     0  \n",
      "3        0          1     1  \n",
      "4        0          0     0  \n"
     ]
    }
   ],
   "source": [
    "# 1. Loại bỏ khoảng trắng và điền NaN\n",
    "data['attributes'] = data['attributes'].str.strip()\n",
    "data['attributes'] = data['attributes'].fillna('Không rõ')  # Loại bỏ inplace=True\n",
    "\n",
    "# 2. Mã hóa các thuộc tính\n",
    "attributes_dummies = data['attributes'].str.get_dummies(sep=', ')\n",
    "\n",
    "# 3. Ghép các cột đã mã hóa vào DataFrame gốc\n",
    "data = pd.concat([data, attributes_dummies], axis=1)\n",
    "\n",
    "# 4. Kiểm tra kết quả\n",
    "print(data.head())\n",
    "\n"
   ],
   "metadata": {
    "collapsed": false,
    "ExecuteTime": {
     "end_time": "2024-09-24T14:54:52.252884Z",
     "start_time": "2024-09-24T14:54:52.236585Z"
    }
   },
   "id": "2a9144b5e6b6cbb5",
   "execution_count": 3
  },
  {
   "cell_type": "code",
   "outputs": [
    {
     "name": "stdout",
     "output_type": "stream",
     "text": [
      "   province  district                   street  price_unit  price_value  \\\n",
      "0         1         5  Mặt phố C1 TT Nghĩa Tân           1         5.50   \n",
      "1         1         5                  Yên Hoà           1         8.58   \n",
      "2         1         5                 Cầu Giấy           1         8.65   \n",
      "3         1         5              Hồ Tùng Mậu           1        28.50   \n",
      "4         1         5                 Cầu Giấy           1         8.90   \n",
      "\n",
      "   price_absolute   area  type  front  room  ...  street_truong cong giai  \\\n",
      "0          5500.0   70.0     1    7.0     2  ...                    False   \n",
      "1          8580.0   45.0     1    5.0     5  ...                    False   \n",
      "2          8650.0   43.0     1    3.6     6  ...                    False   \n",
      "3         28500.0  100.0     1    6.9    29  ...                    False   \n",
      "4          8900.0   35.0     1    3.4     6  ...                    False   \n",
      "\n",
      "   street_tt van cong mai dich street_tt van hoa nghe thuat mai dich  \\\n",
      "0                        False                                 False   \n",
      "1                        False                                 False   \n",
      "2                        False                                 False   \n",
      "3                        False                                 False   \n",
      "4                        False                                 False   \n",
      "\n",
      "   street_tu mo  street_uong 800a  street_vo chi cong  street_xuan thuy  \\\n",
      "0         False             False               False             False   \n",
      "1         False             False               False             False   \n",
      "2         False             False               False             False   \n",
      "3         False             False               False             False   \n",
      "4         False             False               False             False   \n",
      "\n",
      "   street_xx cau giay  street_xx tran thai tong  street_yen hoa  \n",
      "0               False                     False           False  \n",
      "1               False                     False            True  \n",
      "2               False                     False           False  \n",
      "3               False                     False           False  \n",
      "4               False                     False           False  \n",
      "\n",
      "[5 rows x 170 columns]\n"
     ]
    }
   ],
   "source": [
    " # Hàm chuẩn hóa tên đường\n",
    "def normalize_street_name(street_name):\n",
    "    # Loại bỏ dấu tiếng Việt\n",
    "    street_name = unicodedata.normalize('NFKD', street_name).encode('ascii', 'ignore').decode('utf-8')\n",
    "    # Chuyển thành chữ thường\n",
    "    street_name = street_name.lower()\n",
    "    # Loại bỏ các ký tự đặc biệt và khoảng trắng thừa\n",
    "    street_name = re.sub(r'[^a-z0-9\\s]', '', street_name)\n",
    "    street_name = re.sub(r'\\s+', ' ', street_name).strip()\n",
    "    return street_name\n",
    "\n",
    "# Áp dụng hàm chuẩn hóa lên cột 'street'\n",
    "data['street_normalized'] = data['street'].apply(normalize_street_name)\n",
    "\n",
    "# Thực hiện one-hot encoding sau khi chuẩn hóa\n",
    "street_encoded = pd.get_dummies(data['street_normalized'], prefix='street')\n",
    "\n",
    "# Nối cột mới với DataFrame gốc\n",
    "data = pd.concat([data, street_encoded], axis=1)\n",
    "\n",
    "# Xóa cột 'street_normalized' nếu không cần thiết nữa\n",
    "data.drop(columns=['street_normalized'], inplace=True)\n",
    "\n",
    "# Kiểm tra lại dữ liệu sau khi xử lý\n",
    "print(data.head())"
   ],
   "metadata": {
    "collapsed": false,
    "ExecuteTime": {
     "end_time": "2024-09-24T14:54:52.799435Z",
     "start_time": "2024-09-24T14:54:52.778586Z"
    }
   },
   "id": "d04c61c3e7757b3b",
   "execution_count": 4
  },
  {
   "cell_type": "code",
   "outputs": [],
   "source": [
    "data = data.drop(columns=['street'])\n",
    "\n",
    "data = data.drop(columns=['attributes'])\n",
    "\n",
    "data = data.drop(columns=['price_value'])\n",
    "\n",
    "X = data.drop('price_absolute', axis=1)\n",
    "y = data['price_absolute']"
   ],
   "metadata": {
    "collapsed": false,
    "ExecuteTime": {
     "end_time": "2024-09-24T14:54:53.467338Z",
     "start_time": "2024-09-24T14:54:53.458209Z"
    }
   },
   "id": "2234bf9e7c33e42c",
   "execution_count": 5
  },
  {
   "cell_type": "code",
   "outputs": [],
   "source": [
    "from sklearn.model_selection import train_test_split\n",
    "\n",
    "X_train, X_test, y_train, y_test = train_test_split(X, y, test_size=0.3, random_state=101)"
   ],
   "metadata": {
    "collapsed": false,
    "ExecuteTime": {
     "end_time": "2024-09-24T14:54:54.020617Z",
     "start_time": "2024-09-24T14:54:54.014724Z"
    }
   },
   "id": "7a6fb7296afeaf27",
   "execution_count": 6
  },
  {
   "cell_type": "code",
   "outputs": [],
   "source": [
    "from sklearn.preprocessing import MinMaxScaler\n",
    "scaler = MinMaxScaler()\n"
   ],
   "metadata": {
    "collapsed": false,
    "ExecuteTime": {
     "end_time": "2024-09-24T14:54:54.301880Z",
     "start_time": "2024-09-24T14:54:54.298206Z"
    }
   },
   "id": "51c05caa036ce5ac",
   "execution_count": 7
  },
  {
   "cell_type": "code",
   "outputs": [],
   "source": [
    "X_train = scaler.fit_transform(X_train)\n",
    "X_test = scaler.transform(X_test)\n"
   ],
   "metadata": {
    "collapsed": false,
    "ExecuteTime": {
     "end_time": "2024-09-24T14:54:54.702330Z",
     "start_time": "2024-09-24T14:54:54.690697Z"
    }
   },
   "id": "94e2f53ee80a616b",
   "execution_count": 8
  },
  {
   "cell_type": "code",
   "outputs": [],
   "source": [
    "import xgboost as xgb\n",
    "from sklearn.metrics import mean_squared_error, mean_absolute_error, r2_score\n",
    "from sklearn.model_selection import train_test_split, RandomizedSearchCV\n",
    "import pandas as pd"
   ],
   "metadata": {
    "collapsed": false,
    "ExecuteTime": {
     "end_time": "2024-09-24T14:54:55.096260Z",
     "start_time": "2024-09-24T14:54:55.055252Z"
    }
   },
   "id": "e64a481e8b3ec42c",
   "execution_count": 9
  },
  {
   "cell_type": "code",
   "outputs": [],
   "source": [
    "# Tăng cường grid các tham số\n",
    "param_grid = {\n",
    "    'n_estimators': [100, 200, 300, 400, 500],\n",
    "    'max_depth': [3, 4, 5, 6, 7, 8, 9, 10],\n",
    "    'learning_rate': [0.005, 0.01, 0.05, 0.1, 0.2],\n",
    "    'subsample': [0.5, 0.6, 0.7, 0.8, 0.9, 1.0],\n",
    "    'colsample_bytree': [0.5, 0.6, 0.7, 0.8, 0.9, 1.0],\n",
    "    'gamma': [0, 0.05, 0.1, 0.2, 0.3, 0.4],\n",
    "    'min_child_weight': [1, 2, 3, 4, 5]\n",
    "}\n"
   ],
   "metadata": {
    "collapsed": false,
    "ExecuteTime": {
     "end_time": "2024-09-24T15:26:55.043717Z",
     "start_time": "2024-09-24T15:26:55.033742Z"
    }
   },
   "id": "dfd768411e6985a4",
   "execution_count": 42
  },
  {
   "cell_type": "code",
   "outputs": [],
   "source": [
    "# Khởi tạo mô hình XGBRegressor\n",
    "xgb_model = xgb.XGBRegressor(objective='reg:squarederror'\n",
    ", random_state=101)"
   ],
   "metadata": {
    "collapsed": false,
    "ExecuteTime": {
     "end_time": "2024-09-24T15:00:56.644957Z",
     "start_time": "2024-09-24T15:00:56.641231Z"
    }
   },
   "id": "63942924ffbfef85",
   "execution_count": 34
  },
  {
   "cell_type": "code",
   "outputs": [],
   "source": [
    "# Tăng số lần thử nghiệm và số lượng folds\n",
    "random_search = RandomizedSearchCV(\n",
    "    estimator=xgb_model,\n",
    "    param_distributions=param_grid,\n",
    "    n_iter=100,  # Tăng số lượng lần thử nghiệm\n",
    "    scoring='neg_mean_squared_error',\n",
    "    cv=8,  # Số lượng cross-validation folds tăng lên 7\n",
    "    verbose=1,\n",
    "    n_jobs=-1,\n",
    "    random_state=101\n",
    ")"
   ],
   "metadata": {
    "collapsed": false,
    "ExecuteTime": {
     "end_time": "2024-09-24T15:00:57.053118Z",
     "start_time": "2024-09-24T15:00:57.048843Z"
    }
   },
   "id": "34088acfb9a283c0",
   "execution_count": 35
  },
  {
   "cell_type": "code",
   "outputs": [
    {
     "name": "stdout",
     "output_type": "stream",
     "text": [
      "Fitting 8 folds for each of 100 candidates, totalling 800 fits\n"
     ]
    },
    {
     "data": {
      "text/plain": "RandomizedSearchCV(cv=8,\n                   estimator=XGBRegressor(base_score=None, booster=None,\n                                          callbacks=None,\n                                          colsample_bylevel=None,\n                                          colsample_bynode=None,\n                                          colsample_bytree=None, device=None,\n                                          early_stopping_rounds=None,\n                                          enable_categorical=False,\n                                          eval_metric=None, feature_types=None,\n                                          gamma=None, grow_policy=None,\n                                          importance_type=None,\n                                          interaction_constraints=None,\n                                          learning_rate=...\n                   n_iter=100, n_jobs=-1,\n                   param_distributions={'colsample_bytree': [0.5, 0.6, 0.7, 0.8,\n                                                             0.9, 1.0],\n                                        'gamma': [0, 0.05, 0.1, 0.2, 0.3, 0.4],\n                                        'learning_rate': [0.005, 0.01, 0.05,\n                                                          0.1, 0.2],\n                                        'max_depth': [3, 4, 5, 6, 7, 8, 9, 10],\n                                        'min_child_weight': [1, 2, 3, 4, 5],\n                                        'n_estimators': [100, 200, 300, 400,\n                                                         500],\n                                        'subsample': [0.5, 0.6, 0.7, 0.8, 0.9,\n                                                      1.0]},\n                   random_state=101, scoring='neg_mean_squared_error',\n                   verbose=1)",
      "text/html": "<style>#sk-container-id-3 {\n  /* Definition of color scheme common for light and dark mode */\n  --sklearn-color-text: black;\n  --sklearn-color-line: gray;\n  /* Definition of color scheme for unfitted estimators */\n  --sklearn-color-unfitted-level-0: #fff5e6;\n  --sklearn-color-unfitted-level-1: #f6e4d2;\n  --sklearn-color-unfitted-level-2: #ffe0b3;\n  --sklearn-color-unfitted-level-3: chocolate;\n  /* Definition of color scheme for fitted estimators */\n  --sklearn-color-fitted-level-0: #f0f8ff;\n  --sklearn-color-fitted-level-1: #d4ebff;\n  --sklearn-color-fitted-level-2: #b3dbfd;\n  --sklearn-color-fitted-level-3: cornflowerblue;\n\n  /* Specific color for light theme */\n  --sklearn-color-text-on-default-background: var(--sg-text-color, var(--theme-code-foreground, var(--jp-content-font-color1, black)));\n  --sklearn-color-background: var(--sg-background-color, var(--theme-background, var(--jp-layout-color0, white)));\n  --sklearn-color-border-box: var(--sg-text-color, var(--theme-code-foreground, var(--jp-content-font-color1, black)));\n  --sklearn-color-icon: #696969;\n\n  @media (prefers-color-scheme: dark) {\n    /* Redefinition of color scheme for dark theme */\n    --sklearn-color-text-on-default-background: var(--sg-text-color, var(--theme-code-foreground, var(--jp-content-font-color1, white)));\n    --sklearn-color-background: var(--sg-background-color, var(--theme-background, var(--jp-layout-color0, #111)));\n    --sklearn-color-border-box: var(--sg-text-color, var(--theme-code-foreground, var(--jp-content-font-color1, white)));\n    --sklearn-color-icon: #878787;\n  }\n}\n\n#sk-container-id-3 {\n  color: var(--sklearn-color-text);\n}\n\n#sk-container-id-3 pre {\n  padding: 0;\n}\n\n#sk-container-id-3 input.sk-hidden--visually {\n  border: 0;\n  clip: rect(1px 1px 1px 1px);\n  clip: rect(1px, 1px, 1px, 1px);\n  height: 1px;\n  margin: -1px;\n  overflow: hidden;\n  padding: 0;\n  position: absolute;\n  width: 1px;\n}\n\n#sk-container-id-3 div.sk-dashed-wrapped {\n  border: 1px dashed var(--sklearn-color-line);\n  margin: 0 0.4em 0.5em 0.4em;\n  box-sizing: border-box;\n  padding-bottom: 0.4em;\n  background-color: var(--sklearn-color-background);\n}\n\n#sk-container-id-3 div.sk-container {\n  /* jupyter's `normalize.less` sets `[hidden] { display: none; }`\n     but bootstrap.min.css set `[hidden] { display: none !important; }`\n     so we also need the `!important` here to be able to override the\n     default hidden behavior on the sphinx rendered scikit-learn.org.\n     See: https://github.com/scikit-learn/scikit-learn/issues/21755 */\n  display: inline-block !important;\n  position: relative;\n}\n\n#sk-container-id-3 div.sk-text-repr-fallback {\n  display: none;\n}\n\ndiv.sk-parallel-item,\ndiv.sk-serial,\ndiv.sk-item {\n  /* draw centered vertical line to link estimators */\n  background-image: linear-gradient(var(--sklearn-color-text-on-default-background), var(--sklearn-color-text-on-default-background));\n  background-size: 2px 100%;\n  background-repeat: no-repeat;\n  background-position: center center;\n}\n\n/* Parallel-specific style estimator block */\n\n#sk-container-id-3 div.sk-parallel-item::after {\n  content: \"\";\n  width: 100%;\n  border-bottom: 2px solid var(--sklearn-color-text-on-default-background);\n  flex-grow: 1;\n}\n\n#sk-container-id-3 div.sk-parallel {\n  display: flex;\n  align-items: stretch;\n  justify-content: center;\n  background-color: var(--sklearn-color-background);\n  position: relative;\n}\n\n#sk-container-id-3 div.sk-parallel-item {\n  display: flex;\n  flex-direction: column;\n}\n\n#sk-container-id-3 div.sk-parallel-item:first-child::after {\n  align-self: flex-end;\n  width: 50%;\n}\n\n#sk-container-id-3 div.sk-parallel-item:last-child::after {\n  align-self: flex-start;\n  width: 50%;\n}\n\n#sk-container-id-3 div.sk-parallel-item:only-child::after {\n  width: 0;\n}\n\n/* Serial-specific style estimator block */\n\n#sk-container-id-3 div.sk-serial {\n  display: flex;\n  flex-direction: column;\n  align-items: center;\n  background-color: var(--sklearn-color-background);\n  padding-right: 1em;\n  padding-left: 1em;\n}\n\n\n/* Toggleable style: style used for estimator/Pipeline/ColumnTransformer box that is\nclickable and can be expanded/collapsed.\n- Pipeline and ColumnTransformer use this feature and define the default style\n- Estimators will overwrite some part of the style using the `sk-estimator` class\n*/\n\n/* Pipeline and ColumnTransformer style (default) */\n\n#sk-container-id-3 div.sk-toggleable {\n  /* Default theme specific background. It is overwritten whether we have a\n  specific estimator or a Pipeline/ColumnTransformer */\n  background-color: var(--sklearn-color-background);\n}\n\n/* Toggleable label */\n#sk-container-id-3 label.sk-toggleable__label {\n  cursor: pointer;\n  display: block;\n  width: 100%;\n  margin-bottom: 0;\n  padding: 0.5em;\n  box-sizing: border-box;\n  text-align: center;\n}\n\n#sk-container-id-3 label.sk-toggleable__label-arrow:before {\n  /* Arrow on the left of the label */\n  content: \"▸\";\n  float: left;\n  margin-right: 0.25em;\n  color: var(--sklearn-color-icon);\n}\n\n#sk-container-id-3 label.sk-toggleable__label-arrow:hover:before {\n  color: var(--sklearn-color-text);\n}\n\n/* Toggleable content - dropdown */\n\n#sk-container-id-3 div.sk-toggleable__content {\n  max-height: 0;\n  max-width: 0;\n  overflow: hidden;\n  text-align: left;\n  /* unfitted */\n  background-color: var(--sklearn-color-unfitted-level-0);\n}\n\n#sk-container-id-3 div.sk-toggleable__content.fitted {\n  /* fitted */\n  background-color: var(--sklearn-color-fitted-level-0);\n}\n\n#sk-container-id-3 div.sk-toggleable__content pre {\n  margin: 0.2em;\n  border-radius: 0.25em;\n  color: var(--sklearn-color-text);\n  /* unfitted */\n  background-color: var(--sklearn-color-unfitted-level-0);\n}\n\n#sk-container-id-3 div.sk-toggleable__content.fitted pre {\n  /* unfitted */\n  background-color: var(--sklearn-color-fitted-level-0);\n}\n\n#sk-container-id-3 input.sk-toggleable__control:checked~div.sk-toggleable__content {\n  /* Expand drop-down */\n  max-height: 200px;\n  max-width: 100%;\n  overflow: auto;\n}\n\n#sk-container-id-3 input.sk-toggleable__control:checked~label.sk-toggleable__label-arrow:before {\n  content: \"▾\";\n}\n\n/* Pipeline/ColumnTransformer-specific style */\n\n#sk-container-id-3 div.sk-label input.sk-toggleable__control:checked~label.sk-toggleable__label {\n  color: var(--sklearn-color-text);\n  background-color: var(--sklearn-color-unfitted-level-2);\n}\n\n#sk-container-id-3 div.sk-label.fitted input.sk-toggleable__control:checked~label.sk-toggleable__label {\n  background-color: var(--sklearn-color-fitted-level-2);\n}\n\n/* Estimator-specific style */\n\n/* Colorize estimator box */\n#sk-container-id-3 div.sk-estimator input.sk-toggleable__control:checked~label.sk-toggleable__label {\n  /* unfitted */\n  background-color: var(--sklearn-color-unfitted-level-2);\n}\n\n#sk-container-id-3 div.sk-estimator.fitted input.sk-toggleable__control:checked~label.sk-toggleable__label {\n  /* fitted */\n  background-color: var(--sklearn-color-fitted-level-2);\n}\n\n#sk-container-id-3 div.sk-label label.sk-toggleable__label,\n#sk-container-id-3 div.sk-label label {\n  /* The background is the default theme color */\n  color: var(--sklearn-color-text-on-default-background);\n}\n\n/* On hover, darken the color of the background */\n#sk-container-id-3 div.sk-label:hover label.sk-toggleable__label {\n  color: var(--sklearn-color-text);\n  background-color: var(--sklearn-color-unfitted-level-2);\n}\n\n/* Label box, darken color on hover, fitted */\n#sk-container-id-3 div.sk-label.fitted:hover label.sk-toggleable__label.fitted {\n  color: var(--sklearn-color-text);\n  background-color: var(--sklearn-color-fitted-level-2);\n}\n\n/* Estimator label */\n\n#sk-container-id-3 div.sk-label label {\n  font-family: monospace;\n  font-weight: bold;\n  display: inline-block;\n  line-height: 1.2em;\n}\n\n#sk-container-id-3 div.sk-label-container {\n  text-align: center;\n}\n\n/* Estimator-specific */\n#sk-container-id-3 div.sk-estimator {\n  font-family: monospace;\n  border: 1px dotted var(--sklearn-color-border-box);\n  border-radius: 0.25em;\n  box-sizing: border-box;\n  margin-bottom: 0.5em;\n  /* unfitted */\n  background-color: var(--sklearn-color-unfitted-level-0);\n}\n\n#sk-container-id-3 div.sk-estimator.fitted {\n  /* fitted */\n  background-color: var(--sklearn-color-fitted-level-0);\n}\n\n/* on hover */\n#sk-container-id-3 div.sk-estimator:hover {\n  /* unfitted */\n  background-color: var(--sklearn-color-unfitted-level-2);\n}\n\n#sk-container-id-3 div.sk-estimator.fitted:hover {\n  /* fitted */\n  background-color: var(--sklearn-color-fitted-level-2);\n}\n\n/* Specification for estimator info (e.g. \"i\" and \"?\") */\n\n/* Common style for \"i\" and \"?\" */\n\n.sk-estimator-doc-link,\na:link.sk-estimator-doc-link,\na:visited.sk-estimator-doc-link {\n  float: right;\n  font-size: smaller;\n  line-height: 1em;\n  font-family: monospace;\n  background-color: var(--sklearn-color-background);\n  border-radius: 1em;\n  height: 1em;\n  width: 1em;\n  text-decoration: none !important;\n  margin-left: 1ex;\n  /* unfitted */\n  border: var(--sklearn-color-unfitted-level-1) 1pt solid;\n  color: var(--sklearn-color-unfitted-level-1);\n}\n\n.sk-estimator-doc-link.fitted,\na:link.sk-estimator-doc-link.fitted,\na:visited.sk-estimator-doc-link.fitted {\n  /* fitted */\n  border: var(--sklearn-color-fitted-level-1) 1pt solid;\n  color: var(--sklearn-color-fitted-level-1);\n}\n\n/* On hover */\ndiv.sk-estimator:hover .sk-estimator-doc-link:hover,\n.sk-estimator-doc-link:hover,\ndiv.sk-label-container:hover .sk-estimator-doc-link:hover,\n.sk-estimator-doc-link:hover {\n  /* unfitted */\n  background-color: var(--sklearn-color-unfitted-level-3);\n  color: var(--sklearn-color-background);\n  text-decoration: none;\n}\n\ndiv.sk-estimator.fitted:hover .sk-estimator-doc-link.fitted:hover,\n.sk-estimator-doc-link.fitted:hover,\ndiv.sk-label-container:hover .sk-estimator-doc-link.fitted:hover,\n.sk-estimator-doc-link.fitted:hover {\n  /* fitted */\n  background-color: var(--sklearn-color-fitted-level-3);\n  color: var(--sklearn-color-background);\n  text-decoration: none;\n}\n\n/* Span, style for the box shown on hovering the info icon */\n.sk-estimator-doc-link span {\n  display: none;\n  z-index: 9999;\n  position: relative;\n  font-weight: normal;\n  right: .2ex;\n  padding: .5ex;\n  margin: .5ex;\n  width: min-content;\n  min-width: 20ex;\n  max-width: 50ex;\n  color: var(--sklearn-color-text);\n  box-shadow: 2pt 2pt 4pt #999;\n  /* unfitted */\n  background: var(--sklearn-color-unfitted-level-0);\n  border: .5pt solid var(--sklearn-color-unfitted-level-3);\n}\n\n.sk-estimator-doc-link.fitted span {\n  /* fitted */\n  background: var(--sklearn-color-fitted-level-0);\n  border: var(--sklearn-color-fitted-level-3);\n}\n\n.sk-estimator-doc-link:hover span {\n  display: block;\n}\n\n/* \"?\"-specific style due to the `<a>` HTML tag */\n\n#sk-container-id-3 a.estimator_doc_link {\n  float: right;\n  font-size: 1rem;\n  line-height: 1em;\n  font-family: monospace;\n  background-color: var(--sklearn-color-background);\n  border-radius: 1rem;\n  height: 1rem;\n  width: 1rem;\n  text-decoration: none;\n  /* unfitted */\n  color: var(--sklearn-color-unfitted-level-1);\n  border: var(--sklearn-color-unfitted-level-1) 1pt solid;\n}\n\n#sk-container-id-3 a.estimator_doc_link.fitted {\n  /* fitted */\n  border: var(--sklearn-color-fitted-level-1) 1pt solid;\n  color: var(--sklearn-color-fitted-level-1);\n}\n\n/* On hover */\n#sk-container-id-3 a.estimator_doc_link:hover {\n  /* unfitted */\n  background-color: var(--sklearn-color-unfitted-level-3);\n  color: var(--sklearn-color-background);\n  text-decoration: none;\n}\n\n#sk-container-id-3 a.estimator_doc_link.fitted:hover {\n  /* fitted */\n  background-color: var(--sklearn-color-fitted-level-3);\n}\n</style><div id=\"sk-container-id-3\" class=\"sk-top-container\"><div class=\"sk-text-repr-fallback\"><pre>RandomizedSearchCV(cv=8,\n                   estimator=XGBRegressor(base_score=None, booster=None,\n                                          callbacks=None,\n                                          colsample_bylevel=None,\n                                          colsample_bynode=None,\n                                          colsample_bytree=None, device=None,\n                                          early_stopping_rounds=None,\n                                          enable_categorical=False,\n                                          eval_metric=None, feature_types=None,\n                                          gamma=None, grow_policy=None,\n                                          importance_type=None,\n                                          interaction_constraints=None,\n                                          learning_rate=...\n                   n_iter=100, n_jobs=-1,\n                   param_distributions={&#x27;colsample_bytree&#x27;: [0.5, 0.6, 0.7, 0.8,\n                                                             0.9, 1.0],\n                                        &#x27;gamma&#x27;: [0, 0.05, 0.1, 0.2, 0.3, 0.4],\n                                        &#x27;learning_rate&#x27;: [0.005, 0.01, 0.05,\n                                                          0.1, 0.2],\n                                        &#x27;max_depth&#x27;: [3, 4, 5, 6, 7, 8, 9, 10],\n                                        &#x27;min_child_weight&#x27;: [1, 2, 3, 4, 5],\n                                        &#x27;n_estimators&#x27;: [100, 200, 300, 400,\n                                                         500],\n                                        &#x27;subsample&#x27;: [0.5, 0.6, 0.7, 0.8, 0.9,\n                                                      1.0]},\n                   random_state=101, scoring=&#x27;neg_mean_squared_error&#x27;,\n                   verbose=1)</pre><b>In a Jupyter environment, please rerun this cell to show the HTML representation or trust the notebook. <br />On GitHub, the HTML representation is unable to render, please try loading this page with nbviewer.org.</b></div><div class=\"sk-container\" hidden><div class=\"sk-item sk-dashed-wrapped\"><div class=\"sk-label-container\"><div class=\"sk-label fitted sk-toggleable\"><input class=\"sk-toggleable__control sk-hidden--visually\" id=\"sk-estimator-id-7\" type=\"checkbox\" ><label for=\"sk-estimator-id-7\" class=\"sk-toggleable__label fitted sk-toggleable__label-arrow fitted\">&nbsp;&nbsp;RandomizedSearchCV<a class=\"sk-estimator-doc-link fitted\" rel=\"noreferrer\" target=\"_blank\" href=\"https://scikit-learn.org/1.5/modules/generated/sklearn.model_selection.RandomizedSearchCV.html\">?<span>Documentation for RandomizedSearchCV</span></a><span class=\"sk-estimator-doc-link fitted\">i<span>Fitted</span></span></label><div class=\"sk-toggleable__content fitted\"><pre>RandomizedSearchCV(cv=8,\n                   estimator=XGBRegressor(base_score=None, booster=None,\n                                          callbacks=None,\n                                          colsample_bylevel=None,\n                                          colsample_bynode=None,\n                                          colsample_bytree=None, device=None,\n                                          early_stopping_rounds=None,\n                                          enable_categorical=False,\n                                          eval_metric=None, feature_types=None,\n                                          gamma=None, grow_policy=None,\n                                          importance_type=None,\n                                          interaction_constraints=None,\n                                          learning_rate=...\n                   n_iter=100, n_jobs=-1,\n                   param_distributions={&#x27;colsample_bytree&#x27;: [0.5, 0.6, 0.7, 0.8,\n                                                             0.9, 1.0],\n                                        &#x27;gamma&#x27;: [0, 0.05, 0.1, 0.2, 0.3, 0.4],\n                                        &#x27;learning_rate&#x27;: [0.005, 0.01, 0.05,\n                                                          0.1, 0.2],\n                                        &#x27;max_depth&#x27;: [3, 4, 5, 6, 7, 8, 9, 10],\n                                        &#x27;min_child_weight&#x27;: [1, 2, 3, 4, 5],\n                                        &#x27;n_estimators&#x27;: [100, 200, 300, 400,\n                                                         500],\n                                        &#x27;subsample&#x27;: [0.5, 0.6, 0.7, 0.8, 0.9,\n                                                      1.0]},\n                   random_state=101, scoring=&#x27;neg_mean_squared_error&#x27;,\n                   verbose=1)</pre></div> </div></div><div class=\"sk-parallel\"><div class=\"sk-parallel-item\"><div class=\"sk-item\"><div class=\"sk-label-container\"><div class=\"sk-label fitted sk-toggleable\"><input class=\"sk-toggleable__control sk-hidden--visually\" id=\"sk-estimator-id-8\" type=\"checkbox\" ><label for=\"sk-estimator-id-8\" class=\"sk-toggleable__label fitted sk-toggleable__label-arrow fitted\">best_estimator_: XGBRegressor</label><div class=\"sk-toggleable__content fitted\"><pre>XGBRegressor(base_score=None, booster=None, callbacks=None,\n             colsample_bylevel=None, colsample_bynode=None,\n             colsample_bytree=0.5, device=None, early_stopping_rounds=None,\n             enable_categorical=False, eval_metric=None, feature_types=None,\n             gamma=0.1, grow_policy=None, importance_type=None,\n             interaction_constraints=None, learning_rate=0.01, max_bin=None,\n             max_cat_threshold=None, max_cat_to_onehot=None,\n             max_delta_step=None, max_depth=6, max_leaves=None,\n             min_child_weight=4, missing=nan, monotone_constraints=None,\n             multi_strategy=None, n_estimators=300, n_jobs=None,\n             num_parallel_tree=None, random_state=101, ...)</pre></div> </div></div><div class=\"sk-serial\"><div class=\"sk-item\"><div class=\"sk-estimator fitted sk-toggleable\"><input class=\"sk-toggleable__control sk-hidden--visually\" id=\"sk-estimator-id-9\" type=\"checkbox\" ><label for=\"sk-estimator-id-9\" class=\"sk-toggleable__label fitted sk-toggleable__label-arrow fitted\">XGBRegressor</label><div class=\"sk-toggleable__content fitted\"><pre>XGBRegressor(base_score=None, booster=None, callbacks=None,\n             colsample_bylevel=None, colsample_bynode=None,\n             colsample_bytree=0.5, device=None, early_stopping_rounds=None,\n             enable_categorical=False, eval_metric=None, feature_types=None,\n             gamma=0.1, grow_policy=None, importance_type=None,\n             interaction_constraints=None, learning_rate=0.01, max_bin=None,\n             max_cat_threshold=None, max_cat_to_onehot=None,\n             max_delta_step=None, max_depth=6, max_leaves=None,\n             min_child_weight=4, missing=nan, monotone_constraints=None,\n             multi_strategy=None, n_estimators=300, n_jobs=None,\n             num_parallel_tree=None, random_state=101, ...)</pre></div> </div></div></div></div></div></div></div></div></div>"
     },
     "execution_count": 36,
     "metadata": {},
     "output_type": "execute_result"
    }
   ],
   "source": [
    "\n",
    "# Huấn luyện với RandomizedSearchCV\n",
    "random_search.fit(X_train, y_train)\n"
   ],
   "metadata": {
    "collapsed": false,
    "ExecuteTime": {
     "end_time": "2024-09-24T15:01:19.367494Z",
     "start_time": "2024-09-24T15:00:57.688720Z"
    }
   },
   "id": "1e2b99c38e7a40a4",
   "execution_count": 36
  },
  {
   "cell_type": "code",
   "outputs": [
    {
     "name": "stdout",
     "output_type": "stream",
     "text": [
      "Best Parameters: {'subsample': 0.5, 'n_estimators': 300, 'min_child_weight': 4, 'max_depth': 6, 'learning_rate': 0.01, 'gamma': 0.1, 'colsample_bytree': 0.5}\n"
     ]
    }
   ],
   "source": [
    "# Lấy ra các tham số tốt nhất\n",
    "best_params = random_search.best_params_\n",
    "print(f\"Best Parameters: {best_params}\")"
   ],
   "metadata": {
    "collapsed": false,
    "ExecuteTime": {
     "end_time": "2024-09-24T15:02:31.305163Z",
     "start_time": "2024-09-24T15:02:31.300269Z"
    }
   },
   "id": "dc77f433f70b7487",
   "execution_count": 37
  },
  {
   "cell_type": "code",
   "outputs": [],
   "source": [
    "# Huấn luyện lại mô hình với các tham số tốt nhất\n",
    "best_xgb_model = random_search.best_estimator_\n"
   ],
   "metadata": {
    "collapsed": false,
    "ExecuteTime": {
     "end_time": "2024-09-24T15:02:31.705445Z",
     "start_time": "2024-09-24T15:02:31.702161Z"
    }
   },
   "id": "af475a05eba34620",
   "execution_count": 38
  },
  {
   "cell_type": "code",
   "outputs": [],
   "source": [
    "# Dự đoán trên tập kiểm tra\n",
    "y_test_pred = best_xgb_model.predict(X_test)"
   ],
   "metadata": {
    "collapsed": false,
    "ExecuteTime": {
     "end_time": "2024-09-24T15:02:32.203807Z",
     "start_time": "2024-09-24T15:02:32.198065Z"
    }
   },
   "id": "a9016af3c5ca45e7",
   "execution_count": 39
  },
  {
   "cell_type": "code",
   "outputs": [
    {
     "name": "stdout",
     "output_type": "stream",
     "text": [
      "MSE: 13564343140.107769\n",
      "MAE: 22683.77199016378\n",
      "RMSE: 116466.06003513542\n",
      "R2 Score: 0.349974714326897\n"
     ]
    }
   ],
   "source": [
    "# Tính toán các metric\n",
    "from sklearn.metrics import mean_squared_error, mean_absolute_error, r2_score, root_mean_squared_error\n",
    "\n",
    "mse = mean_squared_error(y_test, y_test_pred)\n",
    "mae = mean_absolute_error(y_test, y_test_pred)\n",
    "rmse = root_mean_squared_error(y_test, y_test_pred)  # Sử dụng hàm mới cho RMSE\n",
    "r2 = r2_score(y_test, y_test_pred)\n",
    "\n",
    "print(f'MSE: {mse}')\n",
    "print(f'MAE: {mae}')\n",
    "print(f'RMSE: {rmse}')\n",
    "print(f'R2 Score: {r2}')"
   ],
   "metadata": {
    "collapsed": false,
    "ExecuteTime": {
     "end_time": "2024-09-24T15:02:32.689536Z",
     "start_time": "2024-09-24T15:02:32.679940Z"
    }
   },
   "id": "45166e48dfd0bd9f",
   "execution_count": 40
  },
  {
   "cell_type": "code",
   "outputs": [
    {
     "name": "stdout",
     "output_type": "stream",
     "text": [
      "10 kết quả so sánh đầu tiên:\n",
      "      Actual     Predicted  Absolute Error  Percentage Error\n",
      "220  17500.0  16925.128906      574.871094          3.284978\n",
      "18   16500.0  17246.605469      746.605469          4.524882\n",
      "391   7550.0   9051.669922     1501.669922         19.889668\n",
      "141  44000.0  27444.175781    16555.824219         37.626873\n",
      "354  14500.0  24226.892578     9726.892578         67.082018\n",
      "116  26500.0  22340.023438     4159.976562         15.698025\n",
      "313  13500.0  14871.138672     1371.138672         10.156583\n",
      "138  22500.0  15435.713867     7064.286133         31.396827\n",
      "515  25500.0  18525.253906     6974.746094         27.351945\n",
      "360   8600.0  11189.297852     2589.297852         30.108115\n",
      "\n",
      "Mean Absolute Percentage Error (MAPE): inf%\n"
     ]
    }
   ],
   "source": [
    "# Tạo DataFrame so sánh\n",
    "df_comparison = pd.DataFrame({'Actual': y_test, 'Predicted': y_test_pred})\n",
    "df_comparison['Absolute Error'] = abs(df_comparison['Actual'] - df_comparison['Predicted'])\n",
    "\n",
    "# Tính toán MAPE cho từng mẫu\n",
    "df_comparison['Percentage Error'] = abs((df_comparison['Actual'] - df_comparison['Predicted']) / df_comparison['Actual']) * 100\n",
    "\n",
    "# Tính toán MAPE tổng quát\n",
    "mape = df_comparison['Percentage Error'].mean()\n",
    "\n",
    "# Hiển thị 10 kết quả so sánh đầu tiên\n",
    "print(\"10 kết quả so sánh đầu tiên:\")\n",
    "print(df_comparison.head(10))\n",
    "\n",
    "# Hiển thị MAPE\n",
    "print(f\"\\nMean Absolute Percentage Error (MAPE): {mape:.2f}%\")"
   ],
   "metadata": {
    "collapsed": false,
    "ExecuteTime": {
     "end_time": "2024-09-24T15:27:01.770982Z",
     "start_time": "2024-09-24T15:27:01.759457Z"
    }
   },
   "id": "41d996c6da3f7fc5",
   "execution_count": 43
  },
  {
   "cell_type": "code",
   "outputs": [],
   "source": [],
   "metadata": {
    "collapsed": false
   },
   "id": "72844b5d5f1762e3"
  }
 ],
 "metadata": {
  "kernelspec": {
   "display_name": "Python 3",
   "language": "python",
   "name": "python3"
  },
  "language_info": {
   "codemirror_mode": {
    "name": "ipython",
    "version": 2
   },
   "file_extension": ".py",
   "mimetype": "text/x-python",
   "name": "python",
   "nbconvert_exporter": "python",
   "pygments_lexer": "ipython2",
   "version": "2.7.6"
  }
 },
 "nbformat": 4,
 "nbformat_minor": 5
}
