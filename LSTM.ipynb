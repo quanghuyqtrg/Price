{
 "cells": [
  {
   "cell_type": "code",
   "outputs": [],
   "source": [
    "import numpy as np\n",
    "import pandas as pd\n",
    "import unicodedata\n",
    "import re\n",
    "import tensorflow as tf \n",
    "from sklearn.model_selection import train_test_split\n",
    "from sklearn.preprocessing import MinMaxScaler\n",
    "from sklearn.metrics import mean_squared_error\n",
    "from tensorflow.keras.layers import LSTM, Dense, Dropout\n",
    "from tensorflow.keras.initializers import GlorotUniform\n",
    "from tensorflow.keras.regularizers import l2\n",
    "from tensorflow.keras.optimizers import Adam\n"
   ],
   "metadata": {
    "collapsed": false,
    "ExecuteTime": {
     "end_time": "2024-09-23T15:23:31.578214Z",
     "start_time": "2024-09-23T15:23:26.953543Z"
    }
   },
   "id": "d3f04fb236680f08",
   "execution_count": 2
  },
  {
   "cell_type": "code",
   "outputs": [],
   "source": [
    "\n",
    "data = pd.read_csv('output.csv')\n",
    " "
   ],
   "metadata": {
    "collapsed": false,
    "ExecuteTime": {
     "end_time": "2024-09-23T15:23:33.052457Z",
     "start_time": "2024-09-23T15:23:33.042545Z"
    }
   },
   "id": "ae99b54247c864da",
   "execution_count": 3
  },
  {
   "cell_type": "code",
   "outputs": [
    {
     "data": {
      "text/plain": "   province  district                   street  price_unit  price_value  \\\n0         1         5  Mặt phố C1 TT Nghĩa Tân           1         5.50   \n1         1         5                  Yên Hoà           1         8.58   \n2         1         5                 Cầu Giấy           1         8.65   \n3         1         5              Hồ Tùng Mậu           1        28.50   \n4         1         5                 Cầu Giấy           1         8.90   \n\n   price_absolute   area  type  front  room  toilet  floor  \\\n0          5500.0   70.0     1    7.0     2       2      1   \n1          8580.0   45.0     1    5.0     5       4      4   \n2          8650.0   43.0     1    3.6     6       1      5   \n3         28500.0  100.0     1    6.9    29      29      8   \n4          8900.0   35.0     1    3.4     6       2      5   \n\n                    attributes  \n0  Ô tô, Kinh doanh, Dòng tiền  \n1                         Ô tô  \n2                          NaN  \n3   Ô tô, Dòng tiền, Thang máy  \n4                          NaN  ",
      "text/html": "<div>\n<style scoped>\n    .dataframe tbody tr th:only-of-type {\n        vertical-align: middle;\n    }\n\n    .dataframe tbody tr th {\n        vertical-align: top;\n    }\n\n    .dataframe thead th {\n        text-align: right;\n    }\n</style>\n<table border=\"1\" class=\"dataframe\">\n  <thead>\n    <tr style=\"text-align: right;\">\n      <th></th>\n      <th>province</th>\n      <th>district</th>\n      <th>street</th>\n      <th>price_unit</th>\n      <th>price_value</th>\n      <th>price_absolute</th>\n      <th>area</th>\n      <th>type</th>\n      <th>front</th>\n      <th>room</th>\n      <th>toilet</th>\n      <th>floor</th>\n      <th>attributes</th>\n    </tr>\n  </thead>\n  <tbody>\n    <tr>\n      <th>0</th>\n      <td>1</td>\n      <td>5</td>\n      <td>Mặt phố C1 TT Nghĩa Tân</td>\n      <td>1</td>\n      <td>5.50</td>\n      <td>5500.0</td>\n      <td>70.0</td>\n      <td>1</td>\n      <td>7.0</td>\n      <td>2</td>\n      <td>2</td>\n      <td>1</td>\n      <td>Ô tô, Kinh doanh, Dòng tiền</td>\n    </tr>\n    <tr>\n      <th>1</th>\n      <td>1</td>\n      <td>5</td>\n      <td>Yên Hoà</td>\n      <td>1</td>\n      <td>8.58</td>\n      <td>8580.0</td>\n      <td>45.0</td>\n      <td>1</td>\n      <td>5.0</td>\n      <td>5</td>\n      <td>4</td>\n      <td>4</td>\n      <td>Ô tô</td>\n    </tr>\n    <tr>\n      <th>2</th>\n      <td>1</td>\n      <td>5</td>\n      <td>Cầu Giấy</td>\n      <td>1</td>\n      <td>8.65</td>\n      <td>8650.0</td>\n      <td>43.0</td>\n      <td>1</td>\n      <td>3.6</td>\n      <td>6</td>\n      <td>1</td>\n      <td>5</td>\n      <td>NaN</td>\n    </tr>\n    <tr>\n      <th>3</th>\n      <td>1</td>\n      <td>5</td>\n      <td>Hồ Tùng Mậu</td>\n      <td>1</td>\n      <td>28.50</td>\n      <td>28500.0</td>\n      <td>100.0</td>\n      <td>1</td>\n      <td>6.9</td>\n      <td>29</td>\n      <td>29</td>\n      <td>8</td>\n      <td>Ô tô, Dòng tiền, Thang máy</td>\n    </tr>\n    <tr>\n      <th>4</th>\n      <td>1</td>\n      <td>5</td>\n      <td>Cầu Giấy</td>\n      <td>1</td>\n      <td>8.90</td>\n      <td>8900.0</td>\n      <td>35.0</td>\n      <td>1</td>\n      <td>3.4</td>\n      <td>6</td>\n      <td>2</td>\n      <td>5</td>\n      <td>NaN</td>\n    </tr>\n  </tbody>\n</table>\n</div>"
     },
     "execution_count": 4,
     "metadata": {},
     "output_type": "execute_result"
    }
   ],
   "source": [
    "data.head()\n"
   ],
   "metadata": {
    "collapsed": false,
    "ExecuteTime": {
     "end_time": "2024-09-23T15:23:33.767073Z",
     "start_time": "2024-09-23T15:23:33.750435Z"
    }
   },
   "id": "6eb0080ee92ba6d2",
   "execution_count": 4
  },
  {
   "cell_type": "code",
   "outputs": [
    {
     "name": "stdout",
     "output_type": "stream",
     "text": [
      "0      Ô tô, Kinh doanh, Dòng tiền\n",
      "1                             Ô tô\n",
      "2                              NaN\n",
      "3       Ô tô, Dòng tiền, Thang máy\n",
      "4                              NaN\n",
      "                  ...             \n",
      "546                           Ô tô\n",
      "547      Ô tô, Mặt phố, Kinh doanh\n",
      "548                            NaN\n",
      "549                           Ô tô\n",
      "550      Ô tô, Mặt phố, Kinh doanh\n",
      "Name: attributes, Length: 551, dtype: object\n"
     ]
    }
   ],
   "source": [
    "print(data['attributes'])\n"
   ],
   "metadata": {
    "collapsed": false,
    "ExecuteTime": {
     "end_time": "2024-09-23T15:23:34.505030Z",
     "start_time": "2024-09-23T15:23:34.498304Z"
    }
   },
   "id": "9c344c745707f85c",
   "execution_count": 5
  },
  {
   "cell_type": "code",
   "outputs": [
    {
     "name": "stdout",
     "output_type": "stream",
     "text": [
      "   province  district                   street  price_unit  price_value  \\\n",
      "0         1         5  Mặt phố C1 TT Nghĩa Tân           1         5.50   \n",
      "1         1         5                  Yên Hoà           1         8.58   \n",
      "2         1         5                 Cầu Giấy           1         8.65   \n",
      "3         1         5              Hồ Tùng Mậu           1        28.50   \n",
      "4         1         5                 Cầu Giấy           1         8.90   \n",
      "\n",
      "   price_absolute   area  type  front  room  ...  street_xx cau giay  \\\n",
      "0          5500.0   70.0     1    7.0     2  ...               False   \n",
      "1          8580.0   45.0     1    5.0     5  ...               False   \n",
      "2          8650.0   43.0     1    3.6     6  ...               False   \n",
      "3         28500.0  100.0     1    6.9    29  ...               False   \n",
      "4          8900.0   35.0     1    3.4     6  ...               False   \n",
      "\n",
      "   street_xx tran thai tong street_yen hoa  Chung cư  Dòng tiền  Không rõ  \\\n",
      "0                     False          False         0          1         0   \n",
      "1                     False           True         0          0         0   \n",
      "2                     False          False         0          0         1   \n",
      "3                     False          False         0          1         0   \n",
      "4                     False          False         0          0         1   \n",
      "\n",
      "   Kinh doanh  Mặt phố  Thang máy  Ô tô  \n",
      "0           1        0          0     1  \n",
      "1           0        0          0     1  \n",
      "2           0        0          0     0  \n",
      "3           0        0          1     1  \n",
      "4           0        0          0     0  \n",
      "\n",
      "[5 rows x 177 columns]\n"
     ]
    }
   ],
   "source": [
    "# 1. Loại bỏ khoảng trắng và điền NaN\n",
    "data['attributes'] = data['attributes'].str.strip()\n",
    "data['attributes'] = data['attributes'].fillna('Không rõ')  # Loại bỏ inplace=True\n",
    "\n",
    "# 2. Mã hóa các thuộc tính\n",
    "attributes_dummies = data['attributes'].str.get_dummies(sep=', ')\n",
    "\n",
    "# 3. Ghép các cột đã mã hóa vào DataFrame gốc\n",
    "data = pd.concat([data, attributes_dummies], axis=1)\n",
    "\n",
    "# 4. Kiểm tra kết quả\n",
    "print(data.head())\n"
   ],
   "metadata": {
    "collapsed": false,
    "ExecuteTime": {
     "end_time": "2024-09-23T15:25:13.801598Z",
     "start_time": "2024-09-23T15:25:13.784155Z"
    }
   },
   "id": "7082c7730124eeb",
   "execution_count": 9
  },
  {
   "cell_type": "markdown",
   "source": [],
   "metadata": {
    "collapsed": false
   },
   "id": "3e4929bf37be32a4"
  },
  {
   "cell_type": "code",
   "outputs": [
    {
     "data": {
      "text/plain": "   province  district                   street  price_unit  price_value  \\\n0         1         5  Mặt phố C1 TT Nghĩa Tân           1         5.50   \n1         1         5                  Yên Hoà           1         8.58   \n2         1         5                 Cầu Giấy           1         8.65   \n3         1         5              Hồ Tùng Mậu           1        28.50   \n4         1         5                 Cầu Giấy           1         8.90   \n\n   price_absolute   area  type  front  room  toilet  floor  \\\n0          5500.0   70.0     1    7.0     2       2      1   \n1          8580.0   45.0     1    5.0     5       4      4   \n2          8650.0   43.0     1    3.6     6       1      5   \n3         28500.0  100.0     1    6.9    29      29      8   \n4          8900.0   35.0     1    3.4     6       2      5   \n\n                    attributes  Chung cư  Dòng tiền  Không rõ  Kinh doanh  \\\n0  Ô tô, Kinh doanh, Dòng tiền         0          1         0           1   \n1                         Ô tô         0          0         0           0   \n2                     Không rõ         0          0         1           0   \n3   Ô tô, Dòng tiền, Thang máy         0          1         0           0   \n4                     Không rõ         0          0         1           0   \n\n   Mặt phố  Thang máy  Ô tô  \n0        0          0     1  \n1        0          0     1  \n2        0          0     0  \n3        0          1     1  \n4        0          0     0  ",
      "text/html": "<div>\n<style scoped>\n    .dataframe tbody tr th:only-of-type {\n        vertical-align: middle;\n    }\n\n    .dataframe tbody tr th {\n        vertical-align: top;\n    }\n\n    .dataframe thead th {\n        text-align: right;\n    }\n</style>\n<table border=\"1\" class=\"dataframe\">\n  <thead>\n    <tr style=\"text-align: right;\">\n      <th></th>\n      <th>province</th>\n      <th>district</th>\n      <th>street</th>\n      <th>price_unit</th>\n      <th>price_value</th>\n      <th>price_absolute</th>\n      <th>area</th>\n      <th>type</th>\n      <th>front</th>\n      <th>room</th>\n      <th>toilet</th>\n      <th>floor</th>\n      <th>attributes</th>\n      <th>Chung cư</th>\n      <th>Dòng tiền</th>\n      <th>Không rõ</th>\n      <th>Kinh doanh</th>\n      <th>Mặt phố</th>\n      <th>Thang máy</th>\n      <th>Ô tô</th>\n    </tr>\n  </thead>\n  <tbody>\n    <tr>\n      <th>0</th>\n      <td>1</td>\n      <td>5</td>\n      <td>Mặt phố C1 TT Nghĩa Tân</td>\n      <td>1</td>\n      <td>5.50</td>\n      <td>5500.0</td>\n      <td>70.0</td>\n      <td>1</td>\n      <td>7.0</td>\n      <td>2</td>\n      <td>2</td>\n      <td>1</td>\n      <td>Ô tô, Kinh doanh, Dòng tiền</td>\n      <td>0</td>\n      <td>1</td>\n      <td>0</td>\n      <td>1</td>\n      <td>0</td>\n      <td>0</td>\n      <td>1</td>\n    </tr>\n    <tr>\n      <th>1</th>\n      <td>1</td>\n      <td>5</td>\n      <td>Yên Hoà</td>\n      <td>1</td>\n      <td>8.58</td>\n      <td>8580.0</td>\n      <td>45.0</td>\n      <td>1</td>\n      <td>5.0</td>\n      <td>5</td>\n      <td>4</td>\n      <td>4</td>\n      <td>Ô tô</td>\n      <td>0</td>\n      <td>0</td>\n      <td>0</td>\n      <td>0</td>\n      <td>0</td>\n      <td>0</td>\n      <td>1</td>\n    </tr>\n    <tr>\n      <th>2</th>\n      <td>1</td>\n      <td>5</td>\n      <td>Cầu Giấy</td>\n      <td>1</td>\n      <td>8.65</td>\n      <td>8650.0</td>\n      <td>43.0</td>\n      <td>1</td>\n      <td>3.6</td>\n      <td>6</td>\n      <td>1</td>\n      <td>5</td>\n      <td>Không rõ</td>\n      <td>0</td>\n      <td>0</td>\n      <td>1</td>\n      <td>0</td>\n      <td>0</td>\n      <td>0</td>\n      <td>0</td>\n    </tr>\n    <tr>\n      <th>3</th>\n      <td>1</td>\n      <td>5</td>\n      <td>Hồ Tùng Mậu</td>\n      <td>1</td>\n      <td>28.50</td>\n      <td>28500.0</td>\n      <td>100.0</td>\n      <td>1</td>\n      <td>6.9</td>\n      <td>29</td>\n      <td>29</td>\n      <td>8</td>\n      <td>Ô tô, Dòng tiền, Thang máy</td>\n      <td>0</td>\n      <td>1</td>\n      <td>0</td>\n      <td>0</td>\n      <td>0</td>\n      <td>1</td>\n      <td>1</td>\n    </tr>\n    <tr>\n      <th>4</th>\n      <td>1</td>\n      <td>5</td>\n      <td>Cầu Giấy</td>\n      <td>1</td>\n      <td>8.90</td>\n      <td>8900.0</td>\n      <td>35.0</td>\n      <td>1</td>\n      <td>3.4</td>\n      <td>6</td>\n      <td>2</td>\n      <td>5</td>\n      <td>Không rõ</td>\n      <td>0</td>\n      <td>0</td>\n      <td>1</td>\n      <td>0</td>\n      <td>0</td>\n      <td>0</td>\n      <td>0</td>\n    </tr>\n  </tbody>\n</table>\n</div>"
     },
     "execution_count": 7,
     "metadata": {},
     "output_type": "execute_result"
    }
   ],
   "source": [
    "data.head()"
   ],
   "metadata": {
    "collapsed": false,
    "ExecuteTime": {
     "end_time": "2024-09-23T15:23:36.717277Z",
     "start_time": "2024-09-23T15:23:36.704948Z"
    }
   },
   "id": "8743f44daa3cf326",
   "execution_count": 7
  },
  {
   "cell_type": "code",
   "outputs": [
    {
     "name": "stdout",
     "output_type": "stream",
     "text": [
      "   province  district                   street  price_unit  price_value  \\\n",
      "0         1         5  Mặt phố C1 TT Nghĩa Tân           1         5.50   \n",
      "1         1         5                  Yên Hoà           1         8.58   \n",
      "2         1         5                 Cầu Giấy           1         8.65   \n",
      "3         1         5              Hồ Tùng Mậu           1        28.50   \n",
      "4         1         5                 Cầu Giấy           1         8.90   \n",
      "\n",
      "   price_absolute   area  type  front  room  ...  street_truong cong giai  \\\n",
      "0          5500.0   70.0     1    7.0     2  ...                    False   \n",
      "1          8580.0   45.0     1    5.0     5  ...                    False   \n",
      "2          8650.0   43.0     1    3.6     6  ...                    False   \n",
      "3         28500.0  100.0     1    6.9    29  ...                    False   \n",
      "4          8900.0   35.0     1    3.4     6  ...                    False   \n",
      "\n",
      "   street_tt van cong mai dich street_tt van hoa nghe thuat mai dich  \\\n",
      "0                        False                                 False   \n",
      "1                        False                                 False   \n",
      "2                        False                                 False   \n",
      "3                        False                                 False   \n",
      "4                        False                                 False   \n",
      "\n",
      "   street_tu mo  street_uong 800a  street_vo chi cong  street_xuan thuy  \\\n",
      "0         False             False               False             False   \n",
      "1         False             False               False             False   \n",
      "2         False             False               False             False   \n",
      "3         False             False               False             False   \n",
      "4         False             False               False             False   \n",
      "\n",
      "   street_xx cau giay  street_xx tran thai tong  street_yen hoa  \n",
      "0               False                     False           False  \n",
      "1               False                     False            True  \n",
      "2               False                     False           False  \n",
      "3               False                     False           False  \n",
      "4               False                     False           False  \n",
      "\n",
      "[5 rows x 170 columns]\n"
     ]
    }
   ],
   "source": [
    "# Import các thư viện cần thiết\n",
    "import pandas as pd\n",
    "import re\n",
    "import unicodedata\n",
    "\n",
    "# Hàm chuẩn hóa tên đường\n",
    "def normalize_street_name(street_name):\n",
    "    # Loại bỏ dấu tiếng Việt\n",
    "    street_name = unicodedata.normalize('NFKD', street_name).encode('ascii', 'ignore').decode('utf-8')\n",
    "    # Chuyển thành chữ thường\n",
    "    street_name = street_name.lower()\n",
    "    # Loại bỏ các ký tự đặc biệt và khoảng trắng thừa\n",
    "    street_name = re.sub(r'[^a-z0-9\\s]', '', street_name)\n",
    "    street_name = re.sub(r'\\s+', ' ', street_name).strip()\n",
    "    return street_name\n",
    "\n",
    "# Áp dụng hàm chuẩn hóa lên cột 'street'\n",
    "data['street_normalized'] = data['street'].apply(normalize_street_name)\n",
    "\n",
    "# Thực hiện one-hot encoding sau khi chuẩn hóa\n",
    "street_encoded = pd.get_dummies(data['street_normalized'], prefix='street')\n",
    "\n",
    "# Nối cột đã mã hóa vào DataFrame gốc\n",
    "data = pd.concat([data, street_encoded], axis=1)\n",
    "\n",
    "# Xóa cột 'street_normalized' nếu không cần thiết nữa\n",
    "data.drop(columns=['street_normalized'], inplace=True)\n",
    "\n",
    "# Kiểm tra lại dữ liệu sau khi xử lý\n",
    "print(data.head())\n"
   ],
   "metadata": {
    "collapsed": false,
    "ExecuteTime": {
     "end_time": "2024-09-23T15:23:37.606443Z",
     "start_time": "2024-09-23T15:23:37.588025Z"
    }
   },
   "id": "78e30939d9df972",
   "execution_count": 8
  },
  {
   "cell_type": "code",
   "outputs": [
    {
     "data": {
      "text/plain": "   province  district                   street  price_unit  price_value  \\\n0         1         5  Mặt phố C1 TT Nghĩa Tân           1         5.50   \n1         1         5                  Yên Hoà           1         8.58   \n2         1         5                 Cầu Giấy           1         8.65   \n3         1         5              Hồ Tùng Mậu           1        28.50   \n4         1         5                 Cầu Giấy           1         8.90   \n\n   price_absolute   area  type  front  room  ...  street_truong cong giai  \\\n0          5500.0   70.0     1    7.0     2  ...                    False   \n1          8580.0   45.0     1    5.0     5  ...                    False   \n2          8650.0   43.0     1    3.6     6  ...                    False   \n3         28500.0  100.0     1    6.9    29  ...                    False   \n4          8900.0   35.0     1    3.4     6  ...                    False   \n\n   street_tt van cong mai dich street_tt van hoa nghe thuat mai dich  \\\n0                        False                                 False   \n1                        False                                 False   \n2                        False                                 False   \n3                        False                                 False   \n4                        False                                 False   \n\n   street_tu mo  street_uong 800a  street_vo chi cong  street_xuan thuy  \\\n0         False             False               False             False   \n1         False             False               False             False   \n2         False             False               False             False   \n3         False             False               False             False   \n4         False             False               False             False   \n\n   street_xx cau giay  street_xx tran thai tong  street_yen hoa  \n0               False                     False           False  \n1               False                     False            True  \n2               False                     False           False  \n3               False                     False           False  \n4               False                     False           False  \n\n[5 rows x 170 columns]",
      "text/html": "<div>\n<style scoped>\n    .dataframe tbody tr th:only-of-type {\n        vertical-align: middle;\n    }\n\n    .dataframe tbody tr th {\n        vertical-align: top;\n    }\n\n    .dataframe thead th {\n        text-align: right;\n    }\n</style>\n<table border=\"1\" class=\"dataframe\">\n  <thead>\n    <tr style=\"text-align: right;\">\n      <th></th>\n      <th>province</th>\n      <th>district</th>\n      <th>street</th>\n      <th>price_unit</th>\n      <th>price_value</th>\n      <th>price_absolute</th>\n      <th>area</th>\n      <th>type</th>\n      <th>front</th>\n      <th>room</th>\n      <th>...</th>\n      <th>street_truong cong giai</th>\n      <th>street_tt van cong mai dich</th>\n      <th>street_tt van hoa nghe thuat mai dich</th>\n      <th>street_tu mo</th>\n      <th>street_uong 800a</th>\n      <th>street_vo chi cong</th>\n      <th>street_xuan thuy</th>\n      <th>street_xx cau giay</th>\n      <th>street_xx tran thai tong</th>\n      <th>street_yen hoa</th>\n    </tr>\n  </thead>\n  <tbody>\n    <tr>\n      <th>0</th>\n      <td>1</td>\n      <td>5</td>\n      <td>Mặt phố C1 TT Nghĩa Tân</td>\n      <td>1</td>\n      <td>5.50</td>\n      <td>5500.0</td>\n      <td>70.0</td>\n      <td>1</td>\n      <td>7.0</td>\n      <td>2</td>\n      <td>...</td>\n      <td>False</td>\n      <td>False</td>\n      <td>False</td>\n      <td>False</td>\n      <td>False</td>\n      <td>False</td>\n      <td>False</td>\n      <td>False</td>\n      <td>False</td>\n      <td>False</td>\n    </tr>\n    <tr>\n      <th>1</th>\n      <td>1</td>\n      <td>5</td>\n      <td>Yên Hoà</td>\n      <td>1</td>\n      <td>8.58</td>\n      <td>8580.0</td>\n      <td>45.0</td>\n      <td>1</td>\n      <td>5.0</td>\n      <td>5</td>\n      <td>...</td>\n      <td>False</td>\n      <td>False</td>\n      <td>False</td>\n      <td>False</td>\n      <td>False</td>\n      <td>False</td>\n      <td>False</td>\n      <td>False</td>\n      <td>False</td>\n      <td>True</td>\n    </tr>\n    <tr>\n      <th>2</th>\n      <td>1</td>\n      <td>5</td>\n      <td>Cầu Giấy</td>\n      <td>1</td>\n      <td>8.65</td>\n      <td>8650.0</td>\n      <td>43.0</td>\n      <td>1</td>\n      <td>3.6</td>\n      <td>6</td>\n      <td>...</td>\n      <td>False</td>\n      <td>False</td>\n      <td>False</td>\n      <td>False</td>\n      <td>False</td>\n      <td>False</td>\n      <td>False</td>\n      <td>False</td>\n      <td>False</td>\n      <td>False</td>\n    </tr>\n    <tr>\n      <th>3</th>\n      <td>1</td>\n      <td>5</td>\n      <td>Hồ Tùng Mậu</td>\n      <td>1</td>\n      <td>28.50</td>\n      <td>28500.0</td>\n      <td>100.0</td>\n      <td>1</td>\n      <td>6.9</td>\n      <td>29</td>\n      <td>...</td>\n      <td>False</td>\n      <td>False</td>\n      <td>False</td>\n      <td>False</td>\n      <td>False</td>\n      <td>False</td>\n      <td>False</td>\n      <td>False</td>\n      <td>False</td>\n      <td>False</td>\n    </tr>\n    <tr>\n      <th>4</th>\n      <td>1</td>\n      <td>5</td>\n      <td>Cầu Giấy</td>\n      <td>1</td>\n      <td>8.90</td>\n      <td>8900.0</td>\n      <td>35.0</td>\n      <td>1</td>\n      <td>3.4</td>\n      <td>6</td>\n      <td>...</td>\n      <td>False</td>\n      <td>False</td>\n      <td>False</td>\n      <td>False</td>\n      <td>False</td>\n      <td>False</td>\n      <td>False</td>\n      <td>False</td>\n      <td>False</td>\n      <td>False</td>\n    </tr>\n  </tbody>\n</table>\n<p>5 rows × 170 columns</p>\n</div>"
     },
     "execution_count": 15,
     "metadata": {},
     "output_type": "execute_result"
    }
   ],
   "source": [
    "data.head()"
   ],
   "metadata": {
    "collapsed": false,
    "ExecuteTime": {
     "end_time": "2024-09-21T22:26:45.762018Z",
     "start_time": "2024-09-21T22:26:45.740206Z"
    }
   },
   "id": "80937d4e7cbee9be",
   "execution_count": 15
  },
  {
   "cell_type": "code",
   "outputs": [],
   "source": [
    "data = data.drop(columns=['street'])"
   ],
   "metadata": {
    "collapsed": false,
    "ExecuteTime": {
     "end_time": "2024-09-22T15:44:08.270367Z",
     "start_time": "2024-09-22T15:44:08.262747Z"
    }
   },
   "id": "c7bf56ab136692e5",
   "execution_count": 42
  },
  {
   "cell_type": "code",
   "outputs": [],
   "source": [
    "data = data.drop(columns=['attributes'])\n"
   ],
   "metadata": {
    "collapsed": false,
    "ExecuteTime": {
     "end_time": "2024-09-22T15:44:09.533013Z",
     "start_time": "2024-09-22T15:44:09.527808Z"
    }
   },
   "id": "385f5fab947fa9f0",
   "execution_count": 43
  },
  {
   "cell_type": "code",
   "outputs": [],
   "source": [
    "data = data.drop(columns=['price_value'])"
   ],
   "metadata": {
    "collapsed": false,
    "ExecuteTime": {
     "end_time": "2024-09-22T15:44:10.974163Z",
     "start_time": "2024-09-22T15:44:10.967968Z"
    }
   },
   "id": "c73b696d17b81234",
   "execution_count": 44
  },
  {
   "cell_type": "code",
   "outputs": [
    {
     "data": {
      "text/plain": "   province  district  price_unit  price_absolute   area  type  front  room  \\\n0         1         5           1          5500.0   70.0     1    7.0     2   \n1         1         5           1          8580.0   45.0     1    5.0     5   \n2         1         5           1          8650.0   43.0     1    3.6     6   \n3         1         5           1         28500.0  100.0     1    6.9    29   \n4         1         5           1          8900.0   35.0     1    3.4     6   \n\n   toilet  floor  ...  street_truong cong giai  street_tt van cong mai dich  \\\n0       2      1  ...                    False                        False   \n1       4      4  ...                    False                        False   \n2       1      5  ...                    False                        False   \n3      29      8  ...                    False                        False   \n4       2      5  ...                    False                        False   \n\n   street_tt van hoa nghe thuat mai dich  street_tu mo  street_uong 800a  \\\n0                                  False         False             False   \n1                                  False         False             False   \n2                                  False         False             False   \n3                                  False         False             False   \n4                                  False         False             False   \n\n   street_vo chi cong  street_xuan thuy  street_xx cau giay  \\\n0               False             False               False   \n1               False             False               False   \n2               False             False               False   \n3               False             False               False   \n4               False             False               False   \n\n   street_xx tran thai tong  street_yen hoa  \n0                     False           False  \n1                     False            True  \n2                     False           False  \n3                     False           False  \n4                     False           False  \n\n[5 rows x 167 columns]",
      "text/html": "<div>\n<style scoped>\n    .dataframe tbody tr th:only-of-type {\n        vertical-align: middle;\n    }\n\n    .dataframe tbody tr th {\n        vertical-align: top;\n    }\n\n    .dataframe thead th {\n        text-align: right;\n    }\n</style>\n<table border=\"1\" class=\"dataframe\">\n  <thead>\n    <tr style=\"text-align: right;\">\n      <th></th>\n      <th>province</th>\n      <th>district</th>\n      <th>price_unit</th>\n      <th>price_absolute</th>\n      <th>area</th>\n      <th>type</th>\n      <th>front</th>\n      <th>room</th>\n      <th>toilet</th>\n      <th>floor</th>\n      <th>...</th>\n      <th>street_truong cong giai</th>\n      <th>street_tt van cong mai dich</th>\n      <th>street_tt van hoa nghe thuat mai dich</th>\n      <th>street_tu mo</th>\n      <th>street_uong 800a</th>\n      <th>street_vo chi cong</th>\n      <th>street_xuan thuy</th>\n      <th>street_xx cau giay</th>\n      <th>street_xx tran thai tong</th>\n      <th>street_yen hoa</th>\n    </tr>\n  </thead>\n  <tbody>\n    <tr>\n      <th>0</th>\n      <td>1</td>\n      <td>5</td>\n      <td>1</td>\n      <td>5500.0</td>\n      <td>70.0</td>\n      <td>1</td>\n      <td>7.0</td>\n      <td>2</td>\n      <td>2</td>\n      <td>1</td>\n      <td>...</td>\n      <td>False</td>\n      <td>False</td>\n      <td>False</td>\n      <td>False</td>\n      <td>False</td>\n      <td>False</td>\n      <td>False</td>\n      <td>False</td>\n      <td>False</td>\n      <td>False</td>\n    </tr>\n    <tr>\n      <th>1</th>\n      <td>1</td>\n      <td>5</td>\n      <td>1</td>\n      <td>8580.0</td>\n      <td>45.0</td>\n      <td>1</td>\n      <td>5.0</td>\n      <td>5</td>\n      <td>4</td>\n      <td>4</td>\n      <td>...</td>\n      <td>False</td>\n      <td>False</td>\n      <td>False</td>\n      <td>False</td>\n      <td>False</td>\n      <td>False</td>\n      <td>False</td>\n      <td>False</td>\n      <td>False</td>\n      <td>True</td>\n    </tr>\n    <tr>\n      <th>2</th>\n      <td>1</td>\n      <td>5</td>\n      <td>1</td>\n      <td>8650.0</td>\n      <td>43.0</td>\n      <td>1</td>\n      <td>3.6</td>\n      <td>6</td>\n      <td>1</td>\n      <td>5</td>\n      <td>...</td>\n      <td>False</td>\n      <td>False</td>\n      <td>False</td>\n      <td>False</td>\n      <td>False</td>\n      <td>False</td>\n      <td>False</td>\n      <td>False</td>\n      <td>False</td>\n      <td>False</td>\n    </tr>\n    <tr>\n      <th>3</th>\n      <td>1</td>\n      <td>5</td>\n      <td>1</td>\n      <td>28500.0</td>\n      <td>100.0</td>\n      <td>1</td>\n      <td>6.9</td>\n      <td>29</td>\n      <td>29</td>\n      <td>8</td>\n      <td>...</td>\n      <td>False</td>\n      <td>False</td>\n      <td>False</td>\n      <td>False</td>\n      <td>False</td>\n      <td>False</td>\n      <td>False</td>\n      <td>False</td>\n      <td>False</td>\n      <td>False</td>\n    </tr>\n    <tr>\n      <th>4</th>\n      <td>1</td>\n      <td>5</td>\n      <td>1</td>\n      <td>8900.0</td>\n      <td>35.0</td>\n      <td>1</td>\n      <td>3.4</td>\n      <td>6</td>\n      <td>2</td>\n      <td>5</td>\n      <td>...</td>\n      <td>False</td>\n      <td>False</td>\n      <td>False</td>\n      <td>False</td>\n      <td>False</td>\n      <td>False</td>\n      <td>False</td>\n      <td>False</td>\n      <td>False</td>\n      <td>False</td>\n    </tr>\n  </tbody>\n</table>\n<p>5 rows × 167 columns</p>\n</div>"
     },
     "execution_count": 19,
     "metadata": {},
     "output_type": "execute_result"
    }
   ],
   "source": [
    "data.head()"
   ],
   "metadata": {
    "collapsed": false,
    "ExecuteTime": {
     "end_time": "2024-09-21T22:26:50.092015Z",
     "start_time": "2024-09-21T22:26:50.077769Z"
    }
   },
   "id": "c8691b0a879b7be2",
   "execution_count": 19
  },
  {
   "cell_type": "code",
   "outputs": [
    {
     "name": "stdout",
     "output_type": "stream",
     "text": [
      "     province  district  price_unit  price_absolute   area  type  front  room  \\\n",
      "0           1         5           1          5500.0   70.0     1    7.0     2   \n",
      "1           1         5           1          8580.0   45.0     1    5.0     5   \n",
      "2           1         5           1          8650.0   43.0     1    3.6     6   \n",
      "3           1         5           1         28500.0  100.0     1    6.9    29   \n",
      "4           1         5           1          8900.0   35.0     1    3.4     6   \n",
      "..        ...       ...         ...             ...    ...   ...    ...   ...   \n",
      "546         1         5           1         28000.0  221.0     1   16.0     6   \n",
      "547         1         5           1          7400.0   35.0     1    5.2     4   \n",
      "548         1         5           1          5200.0   45.0     1    4.2     6   \n",
      "549         1         5           1         51000.0  120.0     1    6.2     9   \n",
      "550         1         5           1         14000.0   70.0     1    5.0     2   \n",
      "\n",
      "     toilet  floor  Chung cư  Dòng tiền  Không rõ  Kinh doanh  Mặt phố  \\\n",
      "0         2      1         0          1         0           1        0   \n",
      "1         4      4         0          0         0           0        0   \n",
      "2         1      5         0          0         1           0        0   \n",
      "3        29      8         0          1         0           0        0   \n",
      "4         2      5         0          0         1           0        0   \n",
      "..      ...    ...       ...        ...       ...         ...      ...   \n",
      "546       1      3         0          0         0           0        0   \n",
      "547       1      5         0          0         0           1        1   \n",
      "548       4      4         0          0         1           0        0   \n",
      "549       0      9         0          0         0           0        0   \n",
      "550       0      2         0          0         0           1        1   \n",
      "\n",
      "     Thang máy  Ô tô  street_11026 tran duy hung  street_862 duy tan  \\\n",
      "0            0     1                       False               False   \n",
      "1            0     1                       False               False   \n",
      "2            0     0                       False               False   \n",
      "3            1     1                       False               False   \n",
      "4            0     0                       False               False   \n",
      "..         ...   ...                         ...                 ...   \n",
      "546          0     1                       False               False   \n",
      "547          0     1                       False               False   \n",
      "548          0     0                       False               False   \n",
      "549          0     1                       False               False   \n",
      "550          0     1                       False               False   \n",
      "\n",
      "     street_a29 nghia tan  street_ab quan hoa  street_abc xuan thuy  \\\n",
      "0                   False               False                 False   \n",
      "1                   False               False                 False   \n",
      "2                   False               False                 False   \n",
      "3                   False               False                 False   \n",
      "4                   False               False                 False   \n",
      "..                    ...                 ...                   ...   \n",
      "546                 False               False                 False   \n",
      "547                 False               False                 False   \n",
      "548                 False               False                 False   \n",
      "549                 False               False                 False   \n",
      "550                 False               False                 False   \n",
      "\n",
      "     street_b21 nguyen thi inh nguyen thi inh  street_cau giay  \\\n",
      "0                                       False            False   \n",
      "1                                       False            False   \n",
      "2                                       False             True   \n",
      "3                                       False            False   \n",
      "4                                       False             True   \n",
      "..                                        ...              ...   \n",
      "546                                     False            False   \n",
      "547                                     False            False   \n",
      "548                                     False             True   \n",
      "549                                     False            False   \n",
      "550                                     False            False   \n",
      "\n",
      "     street_chua ha  street_d6 to hieu  street_dich  street_dich vong  \\\n",
      "0             False              False        False             False   \n",
      "1             False              False        False             False   \n",
      "2             False              False        False             False   \n",
      "3             False              False        False             False   \n",
      "4             False              False        False             False   \n",
      "..              ...                ...          ...               ...   \n",
      "546           False              False        False             False   \n",
      "547           False              False        False             False   \n",
      "548           False              False        False             False   \n",
      "549           False              False        False             False   \n",
      "550           False              False        False             False   \n",
      "\n",
      "     street_dich vong hau  street_doan ke thien  \\\n",
      "0                   False                 False   \n",
      "1                   False                 False   \n",
      "2                   False                 False   \n",
      "3                   False                 False   \n",
      "4                   False                 False   \n",
      "..                    ...                   ...   \n",
      "546                 False                 False   \n",
      "547                  True                 False   \n",
      "548                 False                 False   \n",
      "549                 False                 False   \n",
      "550                 False                 False   \n",
      "\n",
      "     street_doan ke thien doan ke thien  street_duong khue  \\\n",
      "0                                 False              False   \n",
      "1                                 False              False   \n",
      "2                                 False              False   \n",
      "3                                 False              False   \n",
      "4                                 False              False   \n",
      "..                                  ...                ...   \n",
      "546                               False              False   \n",
      "547                               False              False   \n",
      "548                               False              False   \n",
      "549                               False              False   \n",
      "550                               False              False   \n",
      "\n",
      "     street_duong quang ham  street_ho tung mau  street_hoa  street_hoa bang  \\\n",
      "0                     False               False       False            False   \n",
      "1                     False               False       False            False   \n",
      "2                     False               False       False            False   \n",
      "3                     False                True       False            False   \n",
      "4                     False               False       False            False   \n",
      "..                      ...                 ...         ...              ...   \n",
      "546                   False               False       False            False   \n",
      "547                   False               False       False            False   \n",
      "548                   False               False       False            False   \n",
      "549                   False               False       False            False   \n",
      "550                   False               False       False            False   \n",
      "\n",
      "     street_hoang ngan  street_hoang quoc viet  street_khuat duy tien  \\\n",
      "0                False                   False                  False   \n",
      "1                False                   False                  False   \n",
      "2                False                   False                  False   \n",
      "3                False                   False                  False   \n",
      "4                False                   False                  False   \n",
      "..                 ...                     ...                    ...   \n",
      "546              False                   False                  False   \n",
      "547              False                   False                  False   \n",
      "548              False                   False                  False   \n",
      "549              False                    True                  False   \n",
      "550              False                   False                  False   \n",
      "\n",
      "     street_khuc thua du  street_kt moi yen hoa  street_lac long quan  \\\n",
      "0                  False                  False                 False   \n",
      "1                  False                  False                 False   \n",
      "2                  False                  False                 False   \n",
      "3                  False                  False                 False   \n",
      "4                  False                  False                 False   \n",
      "..                   ...                    ...                   ...   \n",
      "546                False                  False                  True   \n",
      "547                False                  False                 False   \n",
      "548                False                  False                 False   \n",
      "549                False                  False                 False   \n",
      "550                False                  False                 False   \n",
      "\n",
      "     street_le van luong  street_mac thai to  street_mai dich  \\\n",
      "0                  False               False            False   \n",
      "1                  False               False            False   \n",
      "2                  False               False            False   \n",
      "3                  False               False            False   \n",
      "4                  False               False            False   \n",
      "..                   ...                 ...              ...   \n",
      "546                False               False            False   \n",
      "547                False               False            False   \n",
      "548                False               False            False   \n",
      "549                False               False            False   \n",
      "550                False               False            False   \n",
      "\n",
      "     street_mat pho 107 mai dich  \\\n",
      "0                          False   \n",
      "1                          False   \n",
      "2                          False   \n",
      "3                          False   \n",
      "4                          False   \n",
      "..                           ...   \n",
      "546                        False   \n",
      "547                        False   \n",
      "548                        False   \n",
      "549                        False   \n",
      "550                        False   \n",
      "\n",
      "     street_mat pho 110 cau giay chung cu center point  \\\n",
      "0                                                False   \n",
      "1                                                False   \n",
      "2                                                False   \n",
      "3                                                False   \n",
      "4                                                False   \n",
      "..                                                 ...   \n",
      "546                                              False   \n",
      "547                                              False   \n",
      "548                                              False   \n",
      "549                                              False   \n",
      "550                                              False   \n",
      "\n",
      "     street_mat pho 13 nguyen nhu uyen  street_mat pho 137 nguyen ngoc vu  \\\n",
      "0                                False                              False   \n",
      "1                                False                              False   \n",
      "2                                False                              False   \n",
      "3                                False                              False   \n",
      "4                                False                              False   \n",
      "..                                 ...                                ...   \n",
      "546                              False                              False   \n",
      "547                              False                              False   \n",
      "548                              False                              False   \n",
      "549                              False                              False   \n",
      "550                              False                              False   \n",
      "\n",
      "     street_mat pho 24t1 p1201 hoang ao thuy  \\\n",
      "0                                      False   \n",
      "1                                      False   \n",
      "2                                      False   \n",
      "3                                      False   \n",
      "4                                      False   \n",
      "..                                       ...   \n",
      "546                                    False   \n",
      "547                                    False   \n",
      "548                                    False   \n",
      "549                                    False   \n",
      "550                                    False   \n",
      "\n",
      "     street_mat pho 389b nguyen khang  street_mat pho 55 tran thai tong  \\\n",
      "0                               False                             False   \n",
      "1                               False                             False   \n",
      "2                               False                             False   \n",
      "3                               False                             False   \n",
      "4                               False                             False   \n",
      "..                                ...                               ...   \n",
      "546                             False                             False   \n",
      "547                             False                             False   \n",
      "548                             False                             False   \n",
      "549                             False                             False   \n",
      "550                             False                             False   \n",
      "\n",
      "     street_mat pho 79 hoang quoc viet  street_mat pho a11 nghia tan  \\\n",
      "0                                False                         False   \n",
      "1                                False                         False   \n",
      "2                                False                         False   \n",
      "3                                False                         False   \n",
      "4                                False                         False   \n",
      "..                                 ...                           ...   \n",
      "546                              False                         False   \n",
      "547                              False                         False   \n",
      "548                              False                         False   \n",
      "549                              False                         False   \n",
      "550                              False                         False   \n",
      "\n",
      "     street_mat pho an toa nha van phong va dich vu thuong mai lo 17e4  \\\n",
      "0                                                False                   \n",
      "1                                                False                   \n",
      "2                                                False                   \n",
      "3                                                False                   \n",
      "4                                                False                   \n",
      "..                                                 ...                   \n",
      "546                                              False                   \n",
      "547                                              False                   \n",
      "548                                              False                   \n",
      "549                                              False                   \n",
      "550                                              False                   \n",
      "\n",
      "     street_mat pho c1 tt nghia tan  \\\n",
      "0                              True   \n",
      "1                             False   \n",
      "2                             False   \n",
      "3                             False   \n",
      "4                             False   \n",
      "..                              ...   \n",
      "546                           False   \n",
      "547                           False   \n",
      "548                           False   \n",
      "549                           False   \n",
      "550                           False   \n",
      "\n",
      "     street_mat pho c2 tap the hoc vien ctqg ngo 133 nguyen phong sac  \\\n",
      "0                                                False                  \n",
      "1                                                False                  \n",
      "2                                                False                  \n",
      "3                                                False                  \n",
      "4                                                False                  \n",
      "..                                                 ...                  \n",
      "546                                              False                  \n",
      "547                                              False                  \n",
      "548                                              False                  \n",
      "549                                              False                  \n",
      "550                                              False                  \n",
      "\n",
      "     street_mat pho c5 to hieu  street_mat pho cau giay  \\\n",
      "0                        False                    False   \n",
      "1                        False                    False   \n",
      "2                        False                    False   \n",
      "3                        False                    False   \n",
      "4                        False                    False   \n",
      "..                         ...                      ...   \n",
      "546                      False                    False   \n",
      "547                      False                    False   \n",
      "548                      False                    False   \n",
      "549                      False                    False   \n",
      "550                      False                    False   \n",
      "\n",
      "     street_mat pho cc lucky bac ha 30 pham van ong  \\\n",
      "0                                             False   \n",
      "1                                             False   \n",
      "2                                             False   \n",
      "3                                             False   \n",
      "4                                             False   \n",
      "..                                              ...   \n",
      "546                                           False   \n",
      "547                                           False   \n",
      "548                                           False   \n",
      "549                                           False   \n",
      "550                                           False   \n",
      "\n",
      "     street_mat pho cc ong o nghia o  \\\n",
      "0                              False   \n",
      "1                              False   \n",
      "2                              False   \n",
      "3                              False   \n",
      "4                              False   \n",
      "..                               ...   \n",
      "546                            False   \n",
      "547                            False   \n",
      "548                            False   \n",
      "549                            False   \n",
      "550                            False   \n",
      "\n",
      "     street_mat pho chung cu thang long tower  \\\n",
      "0                                       False   \n",
      "1                                       False   \n",
      "2                                       False   \n",
      "3                                       False   \n",
      "4                                       False   \n",
      "..                                        ...   \n",
      "546                                     False   \n",
      "547                                     False   \n",
      "548                                     False   \n",
      "549                                     False   \n",
      "550                                     False   \n",
      "\n",
      "     street_mat pho ct2 kt nam trung yen  \\\n",
      "0                                  False   \n",
      "1                                  False   \n",
      "2                                  False   \n",
      "3                                  False   \n",
      "4                                  False   \n",
      "..                                   ...   \n",
      "546                                False   \n",
      "547                                False   \n",
      "548                                False   \n",
      "549                                False   \n",
      "550                                False   \n",
      "\n",
      "     street_mat pho cu kt cau giay five star residence  street_mat pho d2  \\\n",
      "0                                                False              False   \n",
      "1                                                False              False   \n",
      "2                                                False              False   \n",
      "3                                                False              False   \n",
      "4                                                False              False   \n",
      "..                                                 ...                ...   \n",
      "546                                              False              False   \n",
      "547                                              False              False   \n",
      "548                                              False              False   \n",
      "549                                              False              False   \n",
      "550                                              False              False   \n",
      "\n",
      "     street_mat pho dich vong hau  street_mat pho doan ke thien  \\\n",
      "0                           False                         False   \n",
      "1                           False                         False   \n",
      "2                           False                         False   \n",
      "3                           False                         False   \n",
      "4                           False                         False   \n",
      "..                            ...                           ...   \n",
      "546                         False                         False   \n",
      "547                         False                         False   \n",
      "548                         False                         False   \n",
      "549                         False                         False   \n",
      "550                         False                         False   \n",
      "\n",
      "     street_mat pho duong 800a  street_mat pho duong inh nghe  \\\n",
      "0                        False                          False   \n",
      "1                        False                          False   \n",
      "2                        False                          False   \n",
      "3                        False                          False   \n",
      "4                        False                          False   \n",
      "..                         ...                            ...   \n",
      "546                      False                          False   \n",
      "547                      False                          False   \n",
      "548                      False                          False   \n",
      "549                      False                          False   \n",
      "550                      False                          False   \n",
      "\n",
      "     street_mat pho duong quang ham  \\\n",
      "0                             False   \n",
      "1                             False   \n",
      "2                             False   \n",
      "3                             False   \n",
      "4                             False   \n",
      "..                              ...   \n",
      "546                           False   \n",
      "547                           False   \n",
      "548                           False   \n",
      "549                           False   \n",
      "550                           False   \n",
      "\n",
      "     street_mat pho ho 2604 chung cu diamond khu o thi goldmark  \\\n",
      "0                                                False            \n",
      "1                                                False            \n",
      "2                                                False            \n",
      "3                                                False            \n",
      "4                                                False            \n",
      "..                                                 ...            \n",
      "546                                              False            \n",
      "547                                              False            \n",
      "548                                              False            \n",
      "549                                              False            \n",
      "550                                              False            \n",
      "\n",
      "     street_mat pho ho 904 chung cu n5c hoang ao thuy  \\\n",
      "0                                               False   \n",
      "1                                               False   \n",
      "2                                               False   \n",
      "3                                               False   \n",
      "4                                               False   \n",
      "..                                                ...   \n",
      "546                                             False   \n",
      "547                                             False   \n",
      "548                                             False   \n",
      "549                                             False   \n",
      "550                                             False   \n",
      "\n",
      "     street_mat pho ho chung cu cao cap thang long no1 b514 khuat duy tien  \\\n",
      "0                                                False                       \n",
      "1                                                False                       \n",
      "2                                                False                       \n",
      "3                                                False                       \n",
      "4                                                False                       \n",
      "..                                                 ...                       \n",
      "546                                              False                       \n",
      "547                                              False                       \n",
      "548                                              False                       \n",
      "549                                              False                       \n",
      "550                                              False                       \n",
      "\n",
      "     street_mat pho hoa bang  street_mat pho hoang cong chat  \\\n",
      "0                      False                           False   \n",
      "1                      False                           False   \n",
      "2                      False                           False   \n",
      "3                      False                           False   \n",
      "4                      False                           False   \n",
      "..                       ...                             ...   \n",
      "546                    False                           False   \n",
      "547                    False                           False   \n",
      "548                    False                           False   \n",
      "549                    False                           False   \n",
      "550                    False                           False   \n",
      "\n",
      "     street_mat pho hoang ngan  street_mat pho hoang quoc viet  \\\n",
      "0                        False                           False   \n",
      "1                        False                           False   \n",
      "2                        False                           False   \n",
      "3                        False                           False   \n",
      "4                        False                           False   \n",
      "..                         ...                             ...   \n",
      "546                      False                           False   \n",
      "547                      False                           False   \n",
      "548                      False                           False   \n",
      "549                      False                           False   \n",
      "550                      False                           False   \n",
      "\n",
      "     street_mat pho khuat duy tien  street_mat pho kt moi yen hoa  \\\n",
      "0                            False                          False   \n",
      "1                            False                          False   \n",
      "2                            False                          False   \n",
      "3                            False                          False   \n",
      "4                            False                          False   \n",
      "..                             ...                            ...   \n",
      "546                          False                          False   \n",
      "547                          False                          False   \n",
      "548                          False                          False   \n",
      "549                          False                          False   \n",
      "550                          False                          False   \n",
      "\n",
      "     street_mat pho lac long quan  street_mat pho le van luong  \\\n",
      "0                           False                        False   \n",
      "1                           False                        False   \n",
      "2                           False                        False   \n",
      "3                           False                        False   \n",
      "4                           False                        False   \n",
      "..                            ...                          ...   \n",
      "546                         False                        False   \n",
      "547                         False                        False   \n",
      "548                         False                        False   \n",
      "549                         False                        False   \n",
      "550                         False                         True   \n",
      "\n",
      "     street_mat pho lo n04a kt moi dich vong  street_mat pho long number one  \\\n",
      "0                                      False                           False   \n",
      "1                                      False                           False   \n",
      "2                                      False                           False   \n",
      "3                                      False                           False   \n",
      "4                                      False                           False   \n",
      "..                                       ...                             ...   \n",
      "546                                    False                           False   \n",
      "547                                    False                           False   \n",
      "548                                    False                           False   \n",
      "549                                    False                           False   \n",
      "550                                    False                           False   \n",
      "\n",
      "     street_mat pho luu quang vu  street_mat pho mac thai to  \\\n",
      "0                          False                       False   \n",
      "1                          False                       False   \n",
      "2                          False                       False   \n",
      "3                          False                       False   \n",
      "4                          False                       False   \n",
      "..                           ...                         ...   \n",
      "546                        False                       False   \n",
      "547                        False                       False   \n",
      "548                        False                       False   \n",
      "549                        False                       False   \n",
      "550                        False                       False   \n",
      "\n",
      "     street_mat pho mac thai tong  street_mat pho mai dich  \\\n",
      "0                           False                    False   \n",
      "1                           False                    False   \n",
      "2                           False                    False   \n",
      "3                           False                    False   \n",
      "4                           False                    False   \n",
      "..                            ...                      ...   \n",
      "546                         False                    False   \n",
      "547                         False                    False   \n",
      "548                         False                    False   \n",
      "549                         False                    False   \n",
      "550                         False                    False   \n",
      "\n",
      "     street_mat pho mo ta chi tiet 55 b tran thai tong  \\\n",
      "0                                                False   \n",
      "1                                                False   \n",
      "2                                                False   \n",
      "3                                                False   \n",
      "4                                                False   \n",
      "..                                                 ...   \n",
      "546                                              False   \n",
      "547                                              False   \n",
      "548                                              False   \n",
      "549                                              False   \n",
      "550                                              False   \n",
      "\n",
      "     street_mat pho n07 b31 thanh thai chung cu can bo chien si bo cong an  \\\n",
      "0                                                False                       \n",
      "1                                                False                       \n",
      "2                                                False                       \n",
      "3                                                False                       \n",
      "4                                                False                       \n",
      "..                                                 ...                       \n",
      "546                                              False                       \n",
      "547                                              False                       \n",
      "548                                              False                       \n",
      "549                                              False                       \n",
      "550                                              False                       \n",
      "\n",
      "     street_mat pho n09a kt moi dich vong  street_mat pho nghia tan  \\\n",
      "0                                   False                     False   \n",
      "1                                   False                     False   \n",
      "2                                   False                     False   \n",
      "3                                   False                     False   \n",
      "4                                   False                     False   \n",
      "..                                    ...                       ...   \n",
      "546                                 False                     False   \n",
      "547                                 False                     False   \n",
      "548                                 False                     False   \n",
      "549                                 False                     False   \n",
      "550                                 False                     False   \n",
      "\n",
      "     street_mat pho nghia tan keo dai  street_mat pho ngo vien may  \\\n",
      "0                               False                        False   \n",
      "1                               False                        False   \n",
      "2                               False                        False   \n",
      "3                               False                        False   \n",
      "4                               False                        False   \n",
      "..                                ...                          ...   \n",
      "546                             False                        False   \n",
      "547                             False                        False   \n",
      "548                             False                        False   \n",
      "549                             False                        False   \n",
      "550                             False                        False   \n",
      "\n",
      "     street_mat pho nguyen ba khoan  street_mat pho nguyen chanh  \\\n",
      "0                             False                        False   \n",
      "1                             False                        False   \n",
      "2                             False                        False   \n",
      "3                             False                        False   \n",
      "4                             False                        False   \n",
      "..                              ...                          ...   \n",
      "546                           False                        False   \n",
      "547                           False                        False   \n",
      "548                           False                        False   \n",
      "549                           False                        False   \n",
      "550                           False                        False   \n",
      "\n",
      "     street_mat pho nguyen inh hoan  street_mat pho nguyen kha trac  \\\n",
      "0                             False                           False   \n",
      "1                             False                           False   \n",
      "2                             False                           False   \n",
      "3                             False                           False   \n",
      "4                             False                           False   \n",
      "..                              ...                             ...   \n",
      "546                           False                           False   \n",
      "547                           False                           False   \n",
      "548                           False                           False   \n",
      "549                           False                           False   \n",
      "550                           False                           False   \n",
      "\n",
      "     street_mat pho nguyen khang  street_mat pho nguyen ngoc vu  \\\n",
      "0                          False                          False   \n",
      "1                          False                          False   \n",
      "2                          False                          False   \n",
      "3                          False                          False   \n",
      "4                          False                          False   \n",
      "..                           ...                            ...   \n",
      "546                        False                          False   \n",
      "547                        False                          False   \n",
      "548                        False                          False   \n",
      "549                        False                          False   \n",
      "550                        False                          False   \n",
      "\n",
      "     street_mat pho nguyen thi inh  street_mat pho nguyen van huyen  \\\n",
      "0                            False                            False   \n",
      "1                            False                            False   \n",
      "2                            False                            False   \n",
      "3                            False                            False   \n",
      "4                            False                            False   \n",
      "..                             ...                              ...   \n",
      "546                          False                            False   \n",
      "547                          False                            False   \n",
      "548                          False                            False   \n",
      "549                          False                            False   \n",
      "550                          False                            False   \n",
      "\n",
      "     street_mat pho ong quan  street_mat pho pham van ong  \\\n",
      "0                      False                        False   \n",
      "1                      False                        False   \n",
      "2                      False                        False   \n",
      "3                      False                        False   \n",
      "4                      False                        False   \n",
      "..                       ...                          ...   \n",
      "546                    False                        False   \n",
      "547                    False                        False   \n",
      "548                    False                        False   \n",
      "549                    False                        False   \n",
      "550                    False                        False   \n",
      "\n",
      "     street_mat pho phan van truong  street_mat pho quan hoa  \\\n",
      "0                             False                    False   \n",
      "1                             False                    False   \n",
      "2                             False                    False   \n",
      "3                             False                    False   \n",
      "4                             False                    False   \n",
      "..                              ...                      ...   \n",
      "546                           False                    False   \n",
      "547                           False                    False   \n",
      "548                           False                    False   \n",
      "549                           False                    False   \n",
      "550                           False                    False   \n",
      "\n",
      "     street_mat pho so1 shophouse dcapital 119 tran duy  \\\n",
      "0                                                False    \n",
      "1                                                False    \n",
      "2                                                False    \n",
      "3                                                False    \n",
      "4                                                False    \n",
      "..                                                 ...    \n",
      "546                                              False    \n",
      "547                                              False    \n",
      "548                                              False    \n",
      "549                                              False    \n",
      "550                                              False    \n",
      "\n",
      "     street_mat pho so3 shophouse dcapital 119 tran duy  \\\n",
      "0                                                False    \n",
      "1                                                False    \n",
      "2                                                False    \n",
      "3                                                False    \n",
      "4                                                False    \n",
      "..                                                 ...    \n",
      "546                                              False    \n",
      "547                                              False    \n",
      "548                                              False    \n",
      "549                                              False    \n",
      "550                                              False    \n",
      "\n",
      "     street_mat pho t4 hoang ao thuy  street_mat pho to hieu  \\\n",
      "0                              False                   False   \n",
      "1                              False                   False   \n",
      "2                              False                   False   \n",
      "3                              False                   False   \n",
      "4                              False                   False   \n",
      "..                               ...                     ...   \n",
      "546                            False                   False   \n",
      "547                            False                   False   \n",
      "548                            False                   False   \n",
      "549                            False                   False   \n",
      "550                            False                   False   \n",
      "\n",
      "     street_mat pho toa c chung cu paragon 86 duy tan  \\\n",
      "0                                               False   \n",
      "1                                               False   \n",
      "2                                               False   \n",
      "3                                               False   \n",
      "4                                               False   \n",
      "..                                                ...   \n",
      "546                                             False   \n",
      "547                                             False   \n",
      "548                                             False   \n",
      "549                                             False   \n",
      "550                                             False   \n",
      "\n",
      "     street_mat pho toa mhdi  street_mat pho toa nha 15 tang 4f nam trung yen  \\\n",
      "0                      False                                            False   \n",
      "1                      False                                            False   \n",
      "2                      False                                            False   \n",
      "3                      False                                            False   \n",
      "4                      False                                            False   \n",
      "..                       ...                                              ...   \n",
      "546                    False                                            False   \n",
      "547                    False                                            False   \n",
      "548                    False                                            False   \n",
      "549                    False                                            False   \n",
      "550                    False                                            False   \n",
      "\n",
      "     street_mat pho tran ang ninh  street_mat pho tran cung  \\\n",
      "0                           False                     False   \n",
      "1                           False                     False   \n",
      "2                           False                     False   \n",
      "3                           False                     False   \n",
      "4                           False                     False   \n",
      "..                            ...                       ...   \n",
      "546                         False                     False   \n",
      "547                         False                     False   \n",
      "548                         False                     False   \n",
      "549                         False                     False   \n",
      "550                         False                     False   \n",
      "\n",
      "     street_mat pho tran duy hung  street_mat pho tran thai tong  \\\n",
      "0                           False                          False   \n",
      "1                           False                          False   \n",
      "2                           False                          False   \n",
      "3                           False                          False   \n",
      "4                           False                          False   \n",
      "..                            ...                            ...   \n",
      "546                         False                          False   \n",
      "547                         False                          False   \n",
      "548                         False                          False   \n",
      "549                         False                          False   \n",
      "550                         False                          False   \n",
      "\n",
      "     street_mat pho tran vy  street_mat pho trung kinh  \\\n",
      "0                     False                      False   \n",
      "1                     False                      False   \n",
      "2                     False                      False   \n",
      "3                     False                      False   \n",
      "4                     False                      False   \n",
      "..                      ...                        ...   \n",
      "546                   False                      False   \n",
      "547                   False                      False   \n",
      "548                   False                      False   \n",
      "549                   False                      False   \n",
      "550                   False                      False   \n",
      "\n",
      "     street_mat pho truong cong giai  street_mat pho tt hoi nong dan  \\\n",
      "0                              False                           False   \n",
      "1                              False                           False   \n",
      "2                              False                           False   \n",
      "3                              False                           False   \n",
      "4                              False                           False   \n",
      "..                               ...                             ...   \n",
      "546                            False                           False   \n",
      "547                            False                           False   \n",
      "548                            False                           False   \n",
      "549                            False                           False   \n",
      "550                            False                           False   \n",
      "\n",
      "     street_mat pho uong 800a  street_mat pho vu pham ham  \\\n",
      "0                       False                       False   \n",
      "1                       False                       False   \n",
      "2                       False                       False   \n",
      "3                       False                       False   \n",
      "4                       False                       False   \n",
      "..                        ...                         ...   \n",
      "546                     False                       False   \n",
      "547                     False                       False   \n",
      "548                     False                       False   \n",
      "549                     False                       False   \n",
      "550                     False                       False   \n",
      "\n",
      "     street_mat pho xuan thuy  street_mat pho yen hoa  street_nghia o  \\\n",
      "0                       False                   False           False   \n",
      "1                       False                   False           False   \n",
      "2                       False                   False           False   \n",
      "3                       False                   False           False   \n",
      "4                       False                   False           False   \n",
      "..                        ...                     ...             ...   \n",
      "546                     False                   False           False   \n",
      "547                     False                   False           False   \n",
      "548                     False                   False           False   \n",
      "549                     False                   False           False   \n",
      "550                     False                   False           False   \n",
      "\n",
      "     street_nghia tan  street_nguyen chanh  street_nguyen inh hoan  \\\n",
      "0               False                False                   False   \n",
      "1               False                False                   False   \n",
      "2               False                False                   False   \n",
      "3               False                False                   False   \n",
      "4               False                False                   False   \n",
      "..                ...                  ...                     ...   \n",
      "546             False                False                   False   \n",
      "547             False                False                   False   \n",
      "548             False                False                   False   \n",
      "549             False                False                   False   \n",
      "550             False                False                   False   \n",
      "\n",
      "     street_nguyen khang  street_nguyen khanh toan  street_nguyen ngoc vu  \\\n",
      "0                  False                     False                  False   \n",
      "1                  False                     False                  False   \n",
      "2                  False                     False                  False   \n",
      "3                  False                     False                  False   \n",
      "4                  False                     False                  False   \n",
      "..                   ...                       ...                    ...   \n",
      "546                False                     False                  False   \n",
      "547                False                     False                  False   \n",
      "548                False                     False                  False   \n",
      "549                False                     False                  False   \n",
      "550                False                     False                  False   \n",
      "\n",
      "     street_nguyen phong sac  street_nguyen thi inh  street_nguyen van huyen  \\\n",
      "0                      False                  False                    False   \n",
      "1                      False                  False                    False   \n",
      "2                      False                  False                    False   \n",
      "3                      False                  False                    False   \n",
      "4                      False                  False                    False   \n",
      "..                       ...                    ...                      ...   \n",
      "546                    False                  False                    False   \n",
      "547                    False                  False                    False   \n",
      "548                    False                  False                    False   \n",
      "549                    False                  False                    False   \n",
      "550                    False                  False                    False   \n",
      "\n",
      "     street_nguyen van huyen duong quang ham  street_o quang  street_ong bat  \\\n",
      "0                                      False           False           False   \n",
      "1                                      False           False           False   \n",
      "2                                      False           False           False   \n",
      "3                                      False           False           False   \n",
      "4                                      False           False           False   \n",
      "..                                       ...             ...             ...   \n",
      "546                                    False           False           False   \n",
      "547                                    False           False           False   \n",
      "548                                    False           False           False   \n",
      "549                                    False           False           False   \n",
      "550                                    False           False           False   \n",
      "\n",
      "     street_ong quan  street_pham hung  street_pham than duat  \\\n",
      "0              False             False                  False   \n",
      "1              False             False                  False   \n",
      "2              False             False                  False   \n",
      "3              False             False                  False   \n",
      "4              False             False                  False   \n",
      "..               ...               ...                    ...   \n",
      "546            False             False                  False   \n",
      "547            False             False                  False   \n",
      "548            False             False                  False   \n",
      "549            False             False                  False   \n",
      "550            False             False                  False   \n",
      "\n",
      "     street_pham tuan tai  street_pham van ong  street_phan van truong  \\\n",
      "0                   False                False                   False   \n",
      "1                   False                False                   False   \n",
      "2                   False                False                   False   \n",
      "3                   False                False                   False   \n",
      "4                   False                False                   False   \n",
      "..                    ...                  ...                     ...   \n",
      "546                 False                False                   False   \n",
      "547                 False                False                   False   \n",
      "548                 False                False                   False   \n",
      "549                 False                False                   False   \n",
      "550                 False                False                   False   \n",
      "\n",
      "     street_phung chi kien  street_quan hoa  street_quan nhan  street_to hieu  \\\n",
      "0                    False            False             False           False   \n",
      "1                    False            False             False           False   \n",
      "2                    False            False             False           False   \n",
      "3                    False            False             False           False   \n",
      "4                    False            False             False           False   \n",
      "..                     ...              ...               ...             ...   \n",
      "546                  False            False             False           False   \n",
      "547                  False            False             False           False   \n",
      "548                  False            False             False           False   \n",
      "549                  False            False             False           False   \n",
      "550                  False            False             False           False   \n",
      "\n",
      "     street_toa c3 capital 119 tran duy hung  street_tran binh  \\\n",
      "0                                      False             False   \n",
      "1                                      False             False   \n",
      "2                                      False             False   \n",
      "3                                      False             False   \n",
      "4                                      False             False   \n",
      "..                                       ...               ...   \n",
      "546                                    False             False   \n",
      "547                                    False             False   \n",
      "548                                    False             False   \n",
      "549                                    False             False   \n",
      "550                                    False             False   \n",
      "\n",
      "     street_tran cung  street_tran duy hung  street_tran kim xuyen  \\\n",
      "0               False                 False                  False   \n",
      "1               False                 False                  False   \n",
      "2               False                 False                  False   \n",
      "3               False                 False                  False   \n",
      "4               False                 False                  False   \n",
      "..                ...                   ...                    ...   \n",
      "546             False                 False                  False   \n",
      "547             False                 False                  False   \n",
      "548             False                 False                  False   \n",
      "549             False                 False                  False   \n",
      "550             False                 False                  False   \n",
      "\n",
      "     street_tran quoc hoan  street_tran quoc vuong  street_tran thai tong  \\\n",
      "0                    False                   False                  False   \n",
      "1                    False                   False                  False   \n",
      "2                    False                   False                  False   \n",
      "3                    False                   False                  False   \n",
      "4                    False                   False                  False   \n",
      "..                     ...                     ...                    ...   \n",
      "546                  False                   False                  False   \n",
      "547                  False                   False                  False   \n",
      "548                  False                   False                  False   \n",
      "549                  False                   False                  False   \n",
      "550                  False                   False                  False   \n",
      "\n",
      "     street_trang an complex so 1 phung chi kien  street_trung kinh  \\\n",
      "0                                          False              False   \n",
      "1                                          False              False   \n",
      "2                                          False              False   \n",
      "3                                          False              False   \n",
      "4                                          False              False   \n",
      "..                                           ...                ...   \n",
      "546                                        False              False   \n",
      "547                                        False              False   \n",
      "548                                        False              False   \n",
      "549                                        False              False   \n",
      "550                                        False              False   \n",
      "\n",
      "     street_truong cong giai  street_tt van cong mai dich  \\\n",
      "0                      False                        False   \n",
      "1                      False                        False   \n",
      "2                      False                        False   \n",
      "3                      False                        False   \n",
      "4                      False                        False   \n",
      "..                       ...                          ...   \n",
      "546                    False                        False   \n",
      "547                    False                        False   \n",
      "548                    False                        False   \n",
      "549                    False                        False   \n",
      "550                    False                        False   \n",
      "\n",
      "     street_tt van hoa nghe thuat mai dich  street_tu mo  street_uong 800a  \\\n",
      "0                                    False         False             False   \n",
      "1                                    False         False             False   \n",
      "2                                    False         False             False   \n",
      "3                                    False         False             False   \n",
      "4                                    False         False             False   \n",
      "..                                     ...           ...               ...   \n",
      "546                                  False         False             False   \n",
      "547                                  False         False             False   \n",
      "548                                  False         False             False   \n",
      "549                                  False         False             False   \n",
      "550                                  False         False             False   \n",
      "\n",
      "     street_vo chi cong  street_xuan thuy  street_xx cau giay  \\\n",
      "0                 False             False               False   \n",
      "1                 False             False               False   \n",
      "2                 False             False               False   \n",
      "3                 False             False               False   \n",
      "4                 False             False               False   \n",
      "..                  ...               ...                 ...   \n",
      "546               False             False               False   \n",
      "547               False             False               False   \n",
      "548               False             False               False   \n",
      "549               False             False               False   \n",
      "550               False             False               False   \n",
      "\n",
      "     street_xx tran thai tong  street_yen hoa  \n",
      "0                       False           False  \n",
      "1                       False            True  \n",
      "2                       False           False  \n",
      "3                       False           False  \n",
      "4                       False           False  \n",
      "..                        ...             ...  \n",
      "546                     False           False  \n",
      "547                     False           False  \n",
      "548                     False           False  \n",
      "549                     False           False  \n",
      "550                     False           False  \n",
      "\n",
      "[551 rows x 167 columns]\n"
     ]
    }
   ],
   "source": [
    "# Remove column display limits\n",
    "pd.set_option('display.max_columns', None)\n",
    "\n",
    "# Now, display the DataFrame with all columns\n",
    "print(data)\n"
   ],
   "metadata": {
    "collapsed": false,
    "ExecuteTime": {
     "end_time": "2024-09-21T22:26:51.615261Z",
     "start_time": "2024-09-21T22:26:51.575684Z"
    }
   },
   "id": "4abe6c05d9b75b55",
   "execution_count": 20
  },
  {
   "cell_type": "code",
   "outputs": [],
   "source": [
    "X = data.drop('price_absolute', axis=1)\n",
    "y = data['price_absolute']"
   ],
   "metadata": {
    "collapsed": false,
    "ExecuteTime": {
     "end_time": "2024-09-22T15:44:15.450801Z",
     "start_time": "2024-09-22T15:44:15.442429Z"
    }
   },
   "id": "1a6d31e67fd2b8f",
   "execution_count": 45
  },
  {
   "cell_type": "code",
   "outputs": [
    {
     "data": {
      "text/plain": "<bound method DataFrame.info of      province  district  price_unit   area  type  front  room  toilet  floor  \\\n0           1         5           1   70.0     1    7.0     2       2      1   \n1           1         5           1   45.0     1    5.0     5       4      4   \n2           1         5           1   43.0     1    3.6     6       1      5   \n3           1         5           1  100.0     1    6.9    29      29      8   \n4           1         5           1   35.0     1    3.4     6       2      5   \n..        ...       ...         ...    ...   ...    ...   ...     ...    ...   \n546         1         5           1  221.0     1   16.0     6       1      3   \n547         1         5           1   35.0     1    5.2     4       1      5   \n548         1         5           1   45.0     1    4.2     6       4      4   \n549         1         5           1  120.0     1    6.2     9       0      9   \n550         1         5           1   70.0     1    5.0     2       0      2   \n\n     Chung cư  Dòng tiền  Không rõ  Kinh doanh  Mặt phố  Thang máy  Ô tô  \\\n0           0          1         0           1        0          0     1   \n1           0          0         0           0        0          0     1   \n2           0          0         1           0        0          0     0   \n3           0          1         0           0        0          1     1   \n4           0          0         1           0        0          0     0   \n..        ...        ...       ...         ...      ...        ...   ...   \n546         0          0         0           0        0          0     1   \n547         0          0         0           1        1          0     1   \n548         0          0         1           0        0          0     0   \n549         0          0         0           0        0          0     1   \n550         0          0         0           1        1          0     1   \n\n     street_11026 tran duy hung  street_862 duy tan  street_a29 nghia tan  \\\n0                         False               False                 False   \n1                         False               False                 False   \n2                         False               False                 False   \n3                         False               False                 False   \n4                         False               False                 False   \n..                          ...                 ...                   ...   \n546                       False               False                 False   \n547                       False               False                 False   \n548                       False               False                 False   \n549                       False               False                 False   \n550                       False               False                 False   \n\n     street_ab quan hoa  street_abc xuan thuy  \\\n0                 False                 False   \n1                 False                 False   \n2                 False                 False   \n3                 False                 False   \n4                 False                 False   \n..                  ...                   ...   \n546               False                 False   \n547               False                 False   \n548               False                 False   \n549               False                 False   \n550               False                 False   \n\n     street_b21 nguyen thi inh nguyen thi inh  street_cau giay  \\\n0                                       False            False   \n1                                       False            False   \n2                                       False             True   \n3                                       False            False   \n4                                       False             True   \n..                                        ...              ...   \n546                                     False            False   \n547                                     False            False   \n548                                     False             True   \n549                                     False            False   \n550                                     False            False   \n\n     street_chua ha  street_d6 to hieu  street_dich  street_dich vong  \\\n0             False              False        False             False   \n1             False              False        False             False   \n2             False              False        False             False   \n3             False              False        False             False   \n4             False              False        False             False   \n..              ...                ...          ...               ...   \n546           False              False        False             False   \n547           False              False        False             False   \n548           False              False        False             False   \n549           False              False        False             False   \n550           False              False        False             False   \n\n     street_dich vong hau  street_doan ke thien  \\\n0                   False                 False   \n1                   False                 False   \n2                   False                 False   \n3                   False                 False   \n4                   False                 False   \n..                    ...                   ...   \n546                 False                 False   \n547                  True                 False   \n548                 False                 False   \n549                 False                 False   \n550                 False                 False   \n\n     street_doan ke thien doan ke thien  street_duong khue  \\\n0                                 False              False   \n1                                 False              False   \n2                                 False              False   \n3                                 False              False   \n4                                 False              False   \n..                                  ...                ...   \n546                               False              False   \n547                               False              False   \n548                               False              False   \n549                               False              False   \n550                               False              False   \n\n     street_duong quang ham  street_ho tung mau  street_hoa  street_hoa bang  \\\n0                     False               False       False            False   \n1                     False               False       False            False   \n2                     False               False       False            False   \n3                     False                True       False            False   \n4                     False               False       False            False   \n..                      ...                 ...         ...              ...   \n546                   False               False       False            False   \n547                   False               False       False            False   \n548                   False               False       False            False   \n549                   False               False       False            False   \n550                   False               False       False            False   \n\n     street_hoang ngan  street_hoang quoc viet  street_khuat duy tien  \\\n0                False                   False                  False   \n1                False                   False                  False   \n2                False                   False                  False   \n3                False                   False                  False   \n4                False                   False                  False   \n..                 ...                     ...                    ...   \n546              False                   False                  False   \n547              False                   False                  False   \n548              False                   False                  False   \n549              False                    True                  False   \n550              False                   False                  False   \n\n     street_khuc thua du  street_kt moi yen hoa  street_lac long quan  \\\n0                  False                  False                 False   \n1                  False                  False                 False   \n2                  False                  False                 False   \n3                  False                  False                 False   \n4                  False                  False                 False   \n..                   ...                    ...                   ...   \n546                False                  False                  True   \n547                False                  False                 False   \n548                False                  False                 False   \n549                False                  False                 False   \n550                False                  False                 False   \n\n     street_le van luong  street_mac thai to  street_mai dich  \\\n0                  False               False            False   \n1                  False               False            False   \n2                  False               False            False   \n3                  False               False            False   \n4                  False               False            False   \n..                   ...                 ...              ...   \n546                False               False            False   \n547                False               False            False   \n548                False               False            False   \n549                False               False            False   \n550                False               False            False   \n\n     street_mat pho 107 mai dich  \\\n0                          False   \n1                          False   \n2                          False   \n3                          False   \n4                          False   \n..                           ...   \n546                        False   \n547                        False   \n548                        False   \n549                        False   \n550                        False   \n\n     street_mat pho 110 cau giay chung cu center point  \\\n0                                                False   \n1                                                False   \n2                                                False   \n3                                                False   \n4                                                False   \n..                                                 ...   \n546                                              False   \n547                                              False   \n548                                              False   \n549                                              False   \n550                                              False   \n\n     street_mat pho 13 nguyen nhu uyen  street_mat pho 137 nguyen ngoc vu  \\\n0                                False                              False   \n1                                False                              False   \n2                                False                              False   \n3                                False                              False   \n4                                False                              False   \n..                                 ...                                ...   \n546                              False                              False   \n547                              False                              False   \n548                              False                              False   \n549                              False                              False   \n550                              False                              False   \n\n     street_mat pho 24t1 p1201 hoang ao thuy  \\\n0                                      False   \n1                                      False   \n2                                      False   \n3                                      False   \n4                                      False   \n..                                       ...   \n546                                    False   \n547                                    False   \n548                                    False   \n549                                    False   \n550                                    False   \n\n     street_mat pho 389b nguyen khang  street_mat pho 55 tran thai tong  \\\n0                               False                             False   \n1                               False                             False   \n2                               False                             False   \n3                               False                             False   \n4                               False                             False   \n..                                ...                               ...   \n546                             False                             False   \n547                             False                             False   \n548                             False                             False   \n549                             False                             False   \n550                             False                             False   \n\n     street_mat pho 79 hoang quoc viet  street_mat pho a11 nghia tan  \\\n0                                False                         False   \n1                                False                         False   \n2                                False                         False   \n3                                False                         False   \n4                                False                         False   \n..                                 ...                           ...   \n546                              False                         False   \n547                              False                         False   \n548                              False                         False   \n549                              False                         False   \n550                              False                         False   \n\n     street_mat pho an toa nha van phong va dich vu thuong mai lo 17e4  \\\n0                                                False                   \n1                                                False                   \n2                                                False                   \n3                                                False                   \n4                                                False                   \n..                                                 ...                   \n546                                              False                   \n547                                              False                   \n548                                              False                   \n549                                              False                   \n550                                              False                   \n\n     street_mat pho c1 tt nghia tan  \\\n0                              True   \n1                             False   \n2                             False   \n3                             False   \n4                             False   \n..                              ...   \n546                           False   \n547                           False   \n548                           False   \n549                           False   \n550                           False   \n\n     street_mat pho c2 tap the hoc vien ctqg ngo 133 nguyen phong sac  \\\n0                                                False                  \n1                                                False                  \n2                                                False                  \n3                                                False                  \n4                                                False                  \n..                                                 ...                  \n546                                              False                  \n547                                              False                  \n548                                              False                  \n549                                              False                  \n550                                              False                  \n\n     street_mat pho c5 to hieu  street_mat pho cau giay  \\\n0                        False                    False   \n1                        False                    False   \n2                        False                    False   \n3                        False                    False   \n4                        False                    False   \n..                         ...                      ...   \n546                      False                    False   \n547                      False                    False   \n548                      False                    False   \n549                      False                    False   \n550                      False                    False   \n\n     street_mat pho cc lucky bac ha 30 pham van ong  \\\n0                                             False   \n1                                             False   \n2                                             False   \n3                                             False   \n4                                             False   \n..                                              ...   \n546                                           False   \n547                                           False   \n548                                           False   \n549                                           False   \n550                                           False   \n\n     street_mat pho cc ong o nghia o  \\\n0                              False   \n1                              False   \n2                              False   \n3                              False   \n4                              False   \n..                               ...   \n546                            False   \n547                            False   \n548                            False   \n549                            False   \n550                            False   \n\n     street_mat pho chung cu thang long tower  \\\n0                                       False   \n1                                       False   \n2                                       False   \n3                                       False   \n4                                       False   \n..                                        ...   \n546                                     False   \n547                                     False   \n548                                     False   \n549                                     False   \n550                                     False   \n\n     street_mat pho ct2 kt nam trung yen  \\\n0                                  False   \n1                                  False   \n2                                  False   \n3                                  False   \n4                                  False   \n..                                   ...   \n546                                False   \n547                                False   \n548                                False   \n549                                False   \n550                                False   \n\n     street_mat pho cu kt cau giay five star residence  street_mat pho d2  \\\n0                                                False              False   \n1                                                False              False   \n2                                                False              False   \n3                                                False              False   \n4                                                False              False   \n..                                                 ...                ...   \n546                                              False              False   \n547                                              False              False   \n548                                              False              False   \n549                                              False              False   \n550                                              False              False   \n\n     street_mat pho dich vong hau  street_mat pho doan ke thien  \\\n0                           False                         False   \n1                           False                         False   \n2                           False                         False   \n3                           False                         False   \n4                           False                         False   \n..                            ...                           ...   \n546                         False                         False   \n547                         False                         False   \n548                         False                         False   \n549                         False                         False   \n550                         False                         False   \n\n     street_mat pho duong 800a  street_mat pho duong inh nghe  \\\n0                        False                          False   \n1                        False                          False   \n2                        False                          False   \n3                        False                          False   \n4                        False                          False   \n..                         ...                            ...   \n546                      False                          False   \n547                      False                          False   \n548                      False                          False   \n549                      False                          False   \n550                      False                          False   \n\n     street_mat pho duong quang ham  \\\n0                             False   \n1                             False   \n2                             False   \n3                             False   \n4                             False   \n..                              ...   \n546                           False   \n547                           False   \n548                           False   \n549                           False   \n550                           False   \n\n     street_mat pho ho 2604 chung cu diamond khu o thi goldmark  \\\n0                                                False            \n1                                                False            \n2                                                False            \n3                                                False            \n4                                                False            \n..                                                 ...            \n546                                              False            \n547                                              False            \n548                                              False            \n549                                              False            \n550                                              False            \n\n     street_mat pho ho 904 chung cu n5c hoang ao thuy  \\\n0                                               False   \n1                                               False   \n2                                               False   \n3                                               False   \n4                                               False   \n..                                                ...   \n546                                             False   \n547                                             False   \n548                                             False   \n549                                             False   \n550                                             False   \n\n     street_mat pho ho chung cu cao cap thang long no1 b514 khuat duy tien  \\\n0                                                False                       \n1                                                False                       \n2                                                False                       \n3                                                False                       \n4                                                False                       \n..                                                 ...                       \n546                                              False                       \n547                                              False                       \n548                                              False                       \n549                                              False                       \n550                                              False                       \n\n     street_mat pho hoa bang  street_mat pho hoang cong chat  \\\n0                      False                           False   \n1                      False                           False   \n2                      False                           False   \n3                      False                           False   \n4                      False                           False   \n..                       ...                             ...   \n546                    False                           False   \n547                    False                           False   \n548                    False                           False   \n549                    False                           False   \n550                    False                           False   \n\n     street_mat pho hoang ngan  street_mat pho hoang quoc viet  \\\n0                        False                           False   \n1                        False                           False   \n2                        False                           False   \n3                        False                           False   \n4                        False                           False   \n..                         ...                             ...   \n546                      False                           False   \n547                      False                           False   \n548                      False                           False   \n549                      False                           False   \n550                      False                           False   \n\n     street_mat pho khuat duy tien  street_mat pho kt moi yen hoa  \\\n0                            False                          False   \n1                            False                          False   \n2                            False                          False   \n3                            False                          False   \n4                            False                          False   \n..                             ...                            ...   \n546                          False                          False   \n547                          False                          False   \n548                          False                          False   \n549                          False                          False   \n550                          False                          False   \n\n     street_mat pho lac long quan  street_mat pho le van luong  \\\n0                           False                        False   \n1                           False                        False   \n2                           False                        False   \n3                           False                        False   \n4                           False                        False   \n..                            ...                          ...   \n546                         False                        False   \n547                         False                        False   \n548                         False                        False   \n549                         False                        False   \n550                         False                         True   \n\n     street_mat pho lo n04a kt moi dich vong  street_mat pho long number one  \\\n0                                      False                           False   \n1                                      False                           False   \n2                                      False                           False   \n3                                      False                           False   \n4                                      False                           False   \n..                                       ...                             ...   \n546                                    False                           False   \n547                                    False                           False   \n548                                    False                           False   \n549                                    False                           False   \n550                                    False                           False   \n\n     street_mat pho luu quang vu  street_mat pho mac thai to  \\\n0                          False                       False   \n1                          False                       False   \n2                          False                       False   \n3                          False                       False   \n4                          False                       False   \n..                           ...                         ...   \n546                        False                       False   \n547                        False                       False   \n548                        False                       False   \n549                        False                       False   \n550                        False                       False   \n\n     street_mat pho mac thai tong  street_mat pho mai dich  \\\n0                           False                    False   \n1                           False                    False   \n2                           False                    False   \n3                           False                    False   \n4                           False                    False   \n..                            ...                      ...   \n546                         False                    False   \n547                         False                    False   \n548                         False                    False   \n549                         False                    False   \n550                         False                    False   \n\n     street_mat pho mo ta chi tiet 55 b tran thai tong  \\\n0                                                False   \n1                                                False   \n2                                                False   \n3                                                False   \n4                                                False   \n..                                                 ...   \n546                                              False   \n547                                              False   \n548                                              False   \n549                                              False   \n550                                              False   \n\n     street_mat pho n07 b31 thanh thai chung cu can bo chien si bo cong an  \\\n0                                                False                       \n1                                                False                       \n2                                                False                       \n3                                                False                       \n4                                                False                       \n..                                                 ...                       \n546                                              False                       \n547                                              False                       \n548                                              False                       \n549                                              False                       \n550                                              False                       \n\n     street_mat pho n09a kt moi dich vong  street_mat pho nghia tan  \\\n0                                   False                     False   \n1                                   False                     False   \n2                                   False                     False   \n3                                   False                     False   \n4                                   False                     False   \n..                                    ...                       ...   \n546                                 False                     False   \n547                                 False                     False   \n548                                 False                     False   \n549                                 False                     False   \n550                                 False                     False   \n\n     street_mat pho nghia tan keo dai  street_mat pho ngo vien may  \\\n0                               False                        False   \n1                               False                        False   \n2                               False                        False   \n3                               False                        False   \n4                               False                        False   \n..                                ...                          ...   \n546                             False                        False   \n547                             False                        False   \n548                             False                        False   \n549                             False                        False   \n550                             False                        False   \n\n     street_mat pho nguyen ba khoan  street_mat pho nguyen chanh  \\\n0                             False                        False   \n1                             False                        False   \n2                             False                        False   \n3                             False                        False   \n4                             False                        False   \n..                              ...                          ...   \n546                           False                        False   \n547                           False                        False   \n548                           False                        False   \n549                           False                        False   \n550                           False                        False   \n\n     street_mat pho nguyen inh hoan  street_mat pho nguyen kha trac  \\\n0                             False                           False   \n1                             False                           False   \n2                             False                           False   \n3                             False                           False   \n4                             False                           False   \n..                              ...                             ...   \n546                           False                           False   \n547                           False                           False   \n548                           False                           False   \n549                           False                           False   \n550                           False                           False   \n\n     street_mat pho nguyen khang  street_mat pho nguyen ngoc vu  \\\n0                          False                          False   \n1                          False                          False   \n2                          False                          False   \n3                          False                          False   \n4                          False                          False   \n..                           ...                            ...   \n546                        False                          False   \n547                        False                          False   \n548                        False                          False   \n549                        False                          False   \n550                        False                          False   \n\n     street_mat pho nguyen thi inh  street_mat pho nguyen van huyen  \\\n0                            False                            False   \n1                            False                            False   \n2                            False                            False   \n3                            False                            False   \n4                            False                            False   \n..                             ...                              ...   \n546                          False                            False   \n547                          False                            False   \n548                          False                            False   \n549                          False                            False   \n550                          False                            False   \n\n     street_mat pho ong quan  street_mat pho pham van ong  \\\n0                      False                        False   \n1                      False                        False   \n2                      False                        False   \n3                      False                        False   \n4                      False                        False   \n..                       ...                          ...   \n546                    False                        False   \n547                    False                        False   \n548                    False                        False   \n549                    False                        False   \n550                    False                        False   \n\n     street_mat pho phan van truong  street_mat pho quan hoa  \\\n0                             False                    False   \n1                             False                    False   \n2                             False                    False   \n3                             False                    False   \n4                             False                    False   \n..                              ...                      ...   \n546                           False                    False   \n547                           False                    False   \n548                           False                    False   \n549                           False                    False   \n550                           False                    False   \n\n     street_mat pho so1 shophouse dcapital 119 tran duy  \\\n0                                                False    \n1                                                False    \n2                                                False    \n3                                                False    \n4                                                False    \n..                                                 ...    \n546                                              False    \n547                                              False    \n548                                              False    \n549                                              False    \n550                                              False    \n\n     street_mat pho so3 shophouse dcapital 119 tran duy  \\\n0                                                False    \n1                                                False    \n2                                                False    \n3                                                False    \n4                                                False    \n..                                                 ...    \n546                                              False    \n547                                              False    \n548                                              False    \n549                                              False    \n550                                              False    \n\n     street_mat pho t4 hoang ao thuy  street_mat pho to hieu  \\\n0                              False                   False   \n1                              False                   False   \n2                              False                   False   \n3                              False                   False   \n4                              False                   False   \n..                               ...                     ...   \n546                            False                   False   \n547                            False                   False   \n548                            False                   False   \n549                            False                   False   \n550                            False                   False   \n\n     street_mat pho toa c chung cu paragon 86 duy tan  \\\n0                                               False   \n1                                               False   \n2                                               False   \n3                                               False   \n4                                               False   \n..                                                ...   \n546                                             False   \n547                                             False   \n548                                             False   \n549                                             False   \n550                                             False   \n\n     street_mat pho toa mhdi  street_mat pho toa nha 15 tang 4f nam trung yen  \\\n0                      False                                            False   \n1                      False                                            False   \n2                      False                                            False   \n3                      False                                            False   \n4                      False                                            False   \n..                       ...                                              ...   \n546                    False                                            False   \n547                    False                                            False   \n548                    False                                            False   \n549                    False                                            False   \n550                    False                                            False   \n\n     street_mat pho tran ang ninh  street_mat pho tran cung  \\\n0                           False                     False   \n1                           False                     False   \n2                           False                     False   \n3                           False                     False   \n4                           False                     False   \n..                            ...                       ...   \n546                         False                     False   \n547                         False                     False   \n548                         False                     False   \n549                         False                     False   \n550                         False                     False   \n\n     street_mat pho tran duy hung  street_mat pho tran thai tong  \\\n0                           False                          False   \n1                           False                          False   \n2                           False                          False   \n3                           False                          False   \n4                           False                          False   \n..                            ...                            ...   \n546                         False                          False   \n547                         False                          False   \n548                         False                          False   \n549                         False                          False   \n550                         False                          False   \n\n     street_mat pho tran vy  street_mat pho trung kinh  \\\n0                     False                      False   \n1                     False                      False   \n2                     False                      False   \n3                     False                      False   \n4                     False                      False   \n..                      ...                        ...   \n546                   False                      False   \n547                   False                      False   \n548                   False                      False   \n549                   False                      False   \n550                   False                      False   \n\n     street_mat pho truong cong giai  street_mat pho tt hoi nong dan  \\\n0                              False                           False   \n1                              False                           False   \n2                              False                           False   \n3                              False                           False   \n4                              False                           False   \n..                               ...                             ...   \n546                            False                           False   \n547                            False                           False   \n548                            False                           False   \n549                            False                           False   \n550                            False                           False   \n\n     street_mat pho uong 800a  street_mat pho vu pham ham  \\\n0                       False                       False   \n1                       False                       False   \n2                       False                       False   \n3                       False                       False   \n4                       False                       False   \n..                        ...                         ...   \n546                     False                       False   \n547                     False                       False   \n548                     False                       False   \n549                     False                       False   \n550                     False                       False   \n\n     street_mat pho xuan thuy  street_mat pho yen hoa  street_nghia o  \\\n0                       False                   False           False   \n1                       False                   False           False   \n2                       False                   False           False   \n3                       False                   False           False   \n4                       False                   False           False   \n..                        ...                     ...             ...   \n546                     False                   False           False   \n547                     False                   False           False   \n548                     False                   False           False   \n549                     False                   False           False   \n550                     False                   False           False   \n\n     street_nghia tan  street_nguyen chanh  street_nguyen inh hoan  \\\n0               False                False                   False   \n1               False                False                   False   \n2               False                False                   False   \n3               False                False                   False   \n4               False                False                   False   \n..                ...                  ...                     ...   \n546             False                False                   False   \n547             False                False                   False   \n548             False                False                   False   \n549             False                False                   False   \n550             False                False                   False   \n\n     street_nguyen khang  street_nguyen khanh toan  street_nguyen ngoc vu  \\\n0                  False                     False                  False   \n1                  False                     False                  False   \n2                  False                     False                  False   \n3                  False                     False                  False   \n4                  False                     False                  False   \n..                   ...                       ...                    ...   \n546                False                     False                  False   \n547                False                     False                  False   \n548                False                     False                  False   \n549                False                     False                  False   \n550                False                     False                  False   \n\n     street_nguyen phong sac  street_nguyen thi inh  street_nguyen van huyen  \\\n0                      False                  False                    False   \n1                      False                  False                    False   \n2                      False                  False                    False   \n3                      False                  False                    False   \n4                      False                  False                    False   \n..                       ...                    ...                      ...   \n546                    False                  False                    False   \n547                    False                  False                    False   \n548                    False                  False                    False   \n549                    False                  False                    False   \n550                    False                  False                    False   \n\n     street_nguyen van huyen duong quang ham  street_o quang  street_ong bat  \\\n0                                      False           False           False   \n1                                      False           False           False   \n2                                      False           False           False   \n3                                      False           False           False   \n4                                      False           False           False   \n..                                       ...             ...             ...   \n546                                    False           False           False   \n547                                    False           False           False   \n548                                    False           False           False   \n549                                    False           False           False   \n550                                    False           False           False   \n\n     street_ong quan  street_pham hung  street_pham than duat  \\\n0              False             False                  False   \n1              False             False                  False   \n2              False             False                  False   \n3              False             False                  False   \n4              False             False                  False   \n..               ...               ...                    ...   \n546            False             False                  False   \n547            False             False                  False   \n548            False             False                  False   \n549            False             False                  False   \n550            False             False                  False   \n\n     street_pham tuan tai  street_pham van ong  street_phan van truong  \\\n0                   False                False                   False   \n1                   False                False                   False   \n2                   False                False                   False   \n3                   False                False                   False   \n4                   False                False                   False   \n..                    ...                  ...                     ...   \n546                 False                False                   False   \n547                 False                False                   False   \n548                 False                False                   False   \n549                 False                False                   False   \n550                 False                False                   False   \n\n     street_phung chi kien  street_quan hoa  street_quan nhan  street_to hieu  \\\n0                    False            False             False           False   \n1                    False            False             False           False   \n2                    False            False             False           False   \n3                    False            False             False           False   \n4                    False            False             False           False   \n..                     ...              ...               ...             ...   \n546                  False            False             False           False   \n547                  False            False             False           False   \n548                  False            False             False           False   \n549                  False            False             False           False   \n550                  False            False             False           False   \n\n     street_toa c3 capital 119 tran duy hung  street_tran binh  \\\n0                                      False             False   \n1                                      False             False   \n2                                      False             False   \n3                                      False             False   \n4                                      False             False   \n..                                       ...               ...   \n546                                    False             False   \n547                                    False             False   \n548                                    False             False   \n549                                    False             False   \n550                                    False             False   \n\n     street_tran cung  street_tran duy hung  street_tran kim xuyen  \\\n0               False                 False                  False   \n1               False                 False                  False   \n2               False                 False                  False   \n3               False                 False                  False   \n4               False                 False                  False   \n..                ...                   ...                    ...   \n546             False                 False                  False   \n547             False                 False                  False   \n548             False                 False                  False   \n549             False                 False                  False   \n550             False                 False                  False   \n\n     street_tran quoc hoan  street_tran quoc vuong  street_tran thai tong  \\\n0                    False                   False                  False   \n1                    False                   False                  False   \n2                    False                   False                  False   \n3                    False                   False                  False   \n4                    False                   False                  False   \n..                     ...                     ...                    ...   \n546                  False                   False                  False   \n547                  False                   False                  False   \n548                  False                   False                  False   \n549                  False                   False                  False   \n550                  False                   False                  False   \n\n     street_trang an complex so 1 phung chi kien  street_trung kinh  \\\n0                                          False              False   \n1                                          False              False   \n2                                          False              False   \n3                                          False              False   \n4                                          False              False   \n..                                           ...                ...   \n546                                        False              False   \n547                                        False              False   \n548                                        False              False   \n549                                        False              False   \n550                                        False              False   \n\n     street_truong cong giai  street_tt van cong mai dich  \\\n0                      False                        False   \n1                      False                        False   \n2                      False                        False   \n3                      False                        False   \n4                      False                        False   \n..                       ...                          ...   \n546                    False                        False   \n547                    False                        False   \n548                    False                        False   \n549                    False                        False   \n550                    False                        False   \n\n     street_tt van hoa nghe thuat mai dich  street_tu mo  street_uong 800a  \\\n0                                    False         False             False   \n1                                    False         False             False   \n2                                    False         False             False   \n3                                    False         False             False   \n4                                    False         False             False   \n..                                     ...           ...               ...   \n546                                  False         False             False   \n547                                  False         False             False   \n548                                  False         False             False   \n549                                  False         False             False   \n550                                  False         False             False   \n\n     street_vo chi cong  street_xuan thuy  street_xx cau giay  \\\n0                 False             False               False   \n1                 False             False               False   \n2                 False             False               False   \n3                 False             False               False   \n4                 False             False               False   \n..                  ...               ...                 ...   \n546               False             False               False   \n547               False             False               False   \n548               False             False               False   \n549               False             False               False   \n550               False             False               False   \n\n     street_xx tran thai tong  street_yen hoa  \n0                       False           False  \n1                       False            True  \n2                       False           False  \n3                       False           False  \n4                       False           False  \n..                        ...             ...  \n546                     False           False  \n547                     False           False  \n548                     False           False  \n549                     False           False  \n550                     False           False  \n\n[551 rows x 166 columns]>"
     },
     "execution_count": 22,
     "metadata": {},
     "output_type": "execute_result"
    }
   ],
   "source": [
    "X.info"
   ],
   "metadata": {
    "collapsed": false,
    "ExecuteTime": {
     "end_time": "2024-09-21T22:26:53.888892Z",
     "start_time": "2024-09-21T22:26:53.849675Z"
    }
   },
   "id": "2e92f779bc26556d",
   "execution_count": 22
  },
  {
   "cell_type": "code",
   "outputs": [
    {
     "data": {
      "text/plain": "(551, 166)"
     },
     "execution_count": 46,
     "metadata": {},
     "output_type": "execute_result"
    }
   ],
   "source": [
    "X.shape"
   ],
   "metadata": {
    "collapsed": false,
    "ExecuteTime": {
     "end_time": "2024-09-22T15:44:18.729155Z",
     "start_time": "2024-09-22T15:44:18.722605Z"
    }
   },
   "id": "a685e0490d762efb",
   "execution_count": 46
  },
  {
   "cell_type": "code",
   "outputs": [
    {
     "data": {
      "text/plain": "(551,)"
     },
     "execution_count": 47,
     "metadata": {},
     "output_type": "execute_result"
    }
   ],
   "source": [
    "y.shape\n"
   ],
   "metadata": {
    "collapsed": false,
    "ExecuteTime": {
     "end_time": "2024-09-22T15:44:20.048190Z",
     "start_time": "2024-09-22T15:44:20.043105Z"
    }
   },
   "id": "d83fd7260c68cf55",
   "execution_count": 47
  },
  {
   "cell_type": "code",
   "outputs": [],
   "source": [
    "from sklearn.model_selection import train_test_split\n"
   ],
   "metadata": {
    "collapsed": false,
    "ExecuteTime": {
     "end_time": "2024-09-22T15:44:22.126783Z",
     "start_time": "2024-09-22T15:44:22.122210Z"
    }
   },
   "id": "92f3d9ed44bb2039",
   "execution_count": 48
  },
  {
   "cell_type": "code",
   "outputs": [],
   "source": [
    "X_train, X_test, y_train, y_test = train_test_split(X,y,test_size=0.3,random_state=101)"
   ],
   "metadata": {
    "collapsed": false,
    "ExecuteTime": {
     "end_time": "2024-09-22T15:44:23.743682Z",
     "start_time": "2024-09-22T15:44:23.713469Z"
    }
   },
   "id": "a4fbcdbf8de1260c",
   "execution_count": 49
  },
  {
   "cell_type": "code",
   "outputs": [],
   "source": [
    "from sklearn.preprocessing import MinMaxScaler\n"
   ],
   "metadata": {
    "collapsed": false,
    "ExecuteTime": {
     "end_time": "2024-09-22T15:44:24.159025Z",
     "start_time": "2024-09-22T15:44:24.154115Z"
    }
   },
   "id": "2086df7f6317898d",
   "execution_count": 50
  },
  {
   "cell_type": "code",
   "outputs": [],
   "source": [
    "scaler = MinMaxScaler()\n"
   ],
   "metadata": {
    "collapsed": false,
    "ExecuteTime": {
     "end_time": "2024-09-22T15:44:25.599482Z",
     "start_time": "2024-09-22T15:44:25.594413Z"
    }
   },
   "id": "77f4286f9ba10aca",
   "execution_count": 51
  },
  {
   "cell_type": "code",
   "outputs": [],
   "source": [
    "X_train = scaler.fit_transform(X_train)"
   ],
   "metadata": {
    "collapsed": false,
    "ExecuteTime": {
     "end_time": "2024-09-22T15:44:26.809109Z",
     "start_time": "2024-09-22T15:44:26.794893Z"
    }
   },
   "id": "7e847bc9a1059e6d",
   "execution_count": 52
  },
  {
   "cell_type": "code",
   "outputs": [],
   "source": [
    "X_test = scaler.transform(X_test)"
   ],
   "metadata": {
    "collapsed": false,
    "ExecuteTime": {
     "end_time": "2024-09-22T15:44:27.147361Z",
     "start_time": "2024-09-22T15:44:27.140845Z"
    }
   },
   "id": "fbcf52499931d001",
   "execution_count": 53
  },
  {
   "cell_type": "code",
   "outputs": [
    {
     "data": {
      "text/plain": "(385, 166)"
     },
     "execution_count": 54,
     "metadata": {},
     "output_type": "execute_result"
    }
   ],
   "source": [
    "X_train.shape\n"
   ],
   "metadata": {
    "collapsed": false,
    "ExecuteTime": {
     "end_time": "2024-09-22T15:44:28.407500Z",
     "start_time": "2024-09-22T15:44:28.399960Z"
    }
   },
   "id": "8927223719724bd2",
   "execution_count": 54
  },
  {
   "cell_type": "code",
   "outputs": [
    {
     "data": {
      "text/plain": "(166, 166)"
     },
     "execution_count": 55,
     "metadata": {},
     "output_type": "execute_result"
    }
   ],
   "source": [
    "X_test.shape\n"
   ],
   "metadata": {
    "collapsed": false,
    "ExecuteTime": {
     "end_time": "2024-09-22T15:44:30.307246Z",
     "start_time": "2024-09-22T15:44:30.300129Z"
    }
   },
   "id": "d148b47b2fa40592",
   "execution_count": 55
  },
  {
   "cell_type": "code",
   "outputs": [],
   "source": [
    "from tensorflow.keras.models import Sequential\n",
    "from tensorflow.keras.regularizers import l2\n",
    "from tensorflow.keras.optimizers import Adam\n",
    "from tensorflow.keras.callbacks import EarlyStopping\n",
    "from tensorflow.keras.layers import LSTM, Dense, Dropout, Input\n"
   ],
   "metadata": {
    "collapsed": false,
    "ExecuteTime": {
     "end_time": "2024-09-22T15:44:31.941442Z",
     "start_time": "2024-09-22T15:44:31.937066Z"
    }
   },
   "id": "623d3cab492a2fcd",
   "execution_count": 56
  },
  {
   "cell_type": "code",
   "outputs": [],
   "source": [
    "\n",
    "# Tạo mô hình Sequential\n",
    "model = Sequential()\n",
    "\n",
    "# Thêm lớp Input\n",
    "\n",
    "# Thêm lớp LSTM với regularization l2 và Dropout\n",
    "model.add(LSTM(50, activation='relu', return_sequences=True, kernel_regularizer=l2(0.01)))  \n",
    "model.add(Dropout(0.3))  # Dropout sau LSTM\n",
    "\n",
    "# Thêm một lớp LSTM khác\n",
    "model.add(LSTM(50, activation='relu', kernel_regularizer=l2(0.01)))\n",
    "model.add(Dropout(0.3))  # Dropout sau LSTM thứ 2\n",
    "\n",
    "# Thêm lớp Dense\n",
    "model.add(Dense(16, activation='relu', kernel_regularizer=l2(0.01)))\n",
    "model.add(Dropout(0.3))  # Dropout sau lớp Dense\n",
    "\n",
    "# Lớp đầu ra\n",
    "model.add(Dense(1))\n",
    "\n",
    "# Sử dụng optimizer Adam với learning rate thấp hơn\n",
    "optimizer = Adam(learning_rate=0.005)\n",
    "model.compile(optimizer=optimizer, loss='mse')\n",
    "\n",
    "# Thêm Early Stopping callback\n",
    "early_stopping = EarlyStopping(monitor='val_loss', patience=10, restore_best_weights=True)"
   ],
   "metadata": {
    "collapsed": false,
    "ExecuteTime": {
     "end_time": "2024-09-22T15:44:50.323880Z",
     "start_time": "2024-09-22T15:44:50.294752Z"
    }
   },
   "id": "377c1276a983dc4c",
   "execution_count": 58
  },
  {
   "cell_type": "code",
   "outputs": [
    {
     "name": "stdout",
     "output_type": "stream",
     "text": [
      "Epoch 1/200\n"
     ]
    },
    {
     "ename": "ValueError",
     "evalue": "Input 0 of layer \"lstm_4\" is incompatible with the layer: expected ndim=3, found ndim=2. Full shape received: (None, 166)",
     "output_type": "error",
     "traceback": [
      "\u001B[1;31m---------------------------------------------------------------------------\u001B[0m",
      "\u001B[1;31mValueError\u001B[0m                                Traceback (most recent call last)",
      "Cell \u001B[1;32mIn[59], line 1\u001B[0m\n\u001B[1;32m----> 1\u001B[0m \u001B[43mmodel\u001B[49m\u001B[38;5;241;43m.\u001B[39;49m\u001B[43mfit\u001B[49m\u001B[43m(\u001B[49m\u001B[43mx\u001B[49m\u001B[38;5;241;43m=\u001B[39;49m\u001B[43mX_train\u001B[49m\u001B[43m,\u001B[49m\u001B[43my\u001B[49m\u001B[38;5;241;43m=\u001B[39;49m\u001B[43my_train\u001B[49m\u001B[38;5;241;43m.\u001B[39;49m\u001B[43mvalues\u001B[49m\u001B[43m,\u001B[49m\n\u001B[0;32m      2\u001B[0m \u001B[43m          \u001B[49m\u001B[43mvalidation_data\u001B[49m\u001B[38;5;241;43m=\u001B[39;49m\u001B[43m(\u001B[49m\u001B[43mX_test\u001B[49m\u001B[43m,\u001B[49m\u001B[43my_test\u001B[49m\u001B[38;5;241;43m.\u001B[39;49m\u001B[43mvalues\u001B[49m\u001B[43m)\u001B[49m\u001B[43m,\u001B[49m\n\u001B[0;32m      3\u001B[0m \u001B[43m          \u001B[49m\u001B[43mbatch_size\u001B[49m\u001B[38;5;241;43m=\u001B[39;49m\u001B[38;5;241;43m32\u001B[39;49m\u001B[43m,\u001B[49m\u001B[43mepochs\u001B[49m\u001B[38;5;241;43m=\u001B[39;49m\u001B[38;5;241;43m200\u001B[39;49m\u001B[43m,\u001B[49m\u001B[43m \u001B[49m\u001B[43mcallbacks\u001B[49m\u001B[38;5;241;43m=\u001B[39;49m\u001B[43m[\u001B[49m\u001B[43mearly_stopping\u001B[49m\u001B[43m]\u001B[49m\u001B[43m)\u001B[49m\n",
      "File \u001B[1;32m~\\PycharmProjects\\pythonProject25\\.venv\\Lib\\site-packages\\keras\\src\\utils\\traceback_utils.py:122\u001B[0m, in \u001B[0;36mfilter_traceback.<locals>.error_handler\u001B[1;34m(*args, **kwargs)\u001B[0m\n\u001B[0;32m    119\u001B[0m     filtered_tb \u001B[38;5;241m=\u001B[39m _process_traceback_frames(e\u001B[38;5;241m.\u001B[39m__traceback__)\n\u001B[0;32m    120\u001B[0m     \u001B[38;5;66;03m# To get the full stack trace, call:\u001B[39;00m\n\u001B[0;32m    121\u001B[0m     \u001B[38;5;66;03m# `keras.config.disable_traceback_filtering()`\u001B[39;00m\n\u001B[1;32m--> 122\u001B[0m     \u001B[38;5;28;01mraise\u001B[39;00m e\u001B[38;5;241m.\u001B[39mwith_traceback(filtered_tb) \u001B[38;5;28;01mfrom\u001B[39;00m \u001B[38;5;28;01mNone\u001B[39;00m\n\u001B[0;32m    123\u001B[0m \u001B[38;5;28;01mfinally\u001B[39;00m:\n\u001B[0;32m    124\u001B[0m     \u001B[38;5;28;01mdel\u001B[39;00m filtered_tb\n",
      "File \u001B[1;32m~\\PycharmProjects\\pythonProject25\\.venv\\Lib\\site-packages\\keras\\src\\layers\\input_spec.py:186\u001B[0m, in \u001B[0;36massert_input_compatibility\u001B[1;34m(input_spec, inputs, layer_name)\u001B[0m\n\u001B[0;32m    184\u001B[0m \u001B[38;5;28;01mif\u001B[39;00m spec\u001B[38;5;241m.\u001B[39mndim \u001B[38;5;129;01mis\u001B[39;00m \u001B[38;5;129;01mnot\u001B[39;00m \u001B[38;5;28;01mNone\u001B[39;00m \u001B[38;5;129;01mand\u001B[39;00m \u001B[38;5;129;01mnot\u001B[39;00m spec\u001B[38;5;241m.\u001B[39mallow_last_axis_squeeze:\n\u001B[0;32m    185\u001B[0m     \u001B[38;5;28;01mif\u001B[39;00m ndim \u001B[38;5;241m!=\u001B[39m spec\u001B[38;5;241m.\u001B[39mndim:\n\u001B[1;32m--> 186\u001B[0m         \u001B[38;5;28;01mraise\u001B[39;00m \u001B[38;5;167;01mValueError\u001B[39;00m(\n\u001B[0;32m    187\u001B[0m             \u001B[38;5;124mf\u001B[39m\u001B[38;5;124m'\u001B[39m\u001B[38;5;124mInput \u001B[39m\u001B[38;5;132;01m{\u001B[39;00minput_index\u001B[38;5;132;01m}\u001B[39;00m\u001B[38;5;124m of layer \u001B[39m\u001B[38;5;124m\"\u001B[39m\u001B[38;5;132;01m{\u001B[39;00mlayer_name\u001B[38;5;132;01m}\u001B[39;00m\u001B[38;5;124m\"\u001B[39m\u001B[38;5;124m \u001B[39m\u001B[38;5;124m'\u001B[39m\n\u001B[0;32m    188\u001B[0m             \u001B[38;5;124m\"\u001B[39m\u001B[38;5;124mis incompatible with the layer: \u001B[39m\u001B[38;5;124m\"\u001B[39m\n\u001B[0;32m    189\u001B[0m             \u001B[38;5;124mf\u001B[39m\u001B[38;5;124m\"\u001B[39m\u001B[38;5;124mexpected ndim=\u001B[39m\u001B[38;5;132;01m{\u001B[39;00mspec\u001B[38;5;241m.\u001B[39mndim\u001B[38;5;132;01m}\u001B[39;00m\u001B[38;5;124m, found ndim=\u001B[39m\u001B[38;5;132;01m{\u001B[39;00mndim\u001B[38;5;132;01m}\u001B[39;00m\u001B[38;5;124m. \u001B[39m\u001B[38;5;124m\"\u001B[39m\n\u001B[0;32m    190\u001B[0m             \u001B[38;5;124mf\u001B[39m\u001B[38;5;124m\"\u001B[39m\u001B[38;5;124mFull shape received: \u001B[39m\u001B[38;5;132;01m{\u001B[39;00mshape\u001B[38;5;132;01m}\u001B[39;00m\u001B[38;5;124m\"\u001B[39m\n\u001B[0;32m    191\u001B[0m         )\n\u001B[0;32m    192\u001B[0m \u001B[38;5;28;01mif\u001B[39;00m spec\u001B[38;5;241m.\u001B[39mmax_ndim \u001B[38;5;129;01mis\u001B[39;00m \u001B[38;5;129;01mnot\u001B[39;00m \u001B[38;5;28;01mNone\u001B[39;00m:\n\u001B[0;32m    193\u001B[0m     \u001B[38;5;28;01mif\u001B[39;00m ndim \u001B[38;5;129;01mis\u001B[39;00m \u001B[38;5;129;01mnot\u001B[39;00m \u001B[38;5;28;01mNone\u001B[39;00m \u001B[38;5;129;01mand\u001B[39;00m ndim \u001B[38;5;241m>\u001B[39m spec\u001B[38;5;241m.\u001B[39mmax_ndim:\n",
      "\u001B[1;31mValueError\u001B[0m: Input 0 of layer \"lstm_4\" is incompatible with the layer: expected ndim=3, found ndim=2. Full shape received: (None, 166)"
     ]
    }
   ],
   "source": [
    "\n",
    "model.fit(x=X_train,y=y_train.values,\n",
    "          validation_data=(X_test,y_test.values),\n",
    "          batch_size=32,epochs=200, callbacks=[early_stopping])"
   ],
   "metadata": {
    "collapsed": false,
    "ExecuteTime": {
     "end_time": "2024-09-22T15:44:52.419085Z",
     "start_time": "2024-09-22T15:44:51.875832Z"
    }
   },
   "id": "369d59bd72b668d0",
   "execution_count": 59
  },
  {
   "cell_type": "code",
   "outputs": [],
   "source": [
    "losses = pd.DataFrame(model.history.history)\n"
   ],
   "metadata": {
    "collapsed": false,
    "ExecuteTime": {
     "end_time": "2024-09-21T15:43:28.656569Z",
     "start_time": "2024-09-21T15:43:28.651642Z"
    }
   },
   "id": "7e459d9049c5d663",
   "execution_count": 29
  },
  {
   "cell_type": "code",
   "outputs": [
    {
     "data": {
      "text/plain": "<Axes: >"
     },
     "execution_count": 30,
     "metadata": {},
     "output_type": "execute_result"
    },
    {
     "data": {
      "text/plain": "<Figure size 640x480 with 1 Axes>",
      "image/png": "[encoded data removed]"
     },
     "metadata": {},
     "output_type": "display_data"
    }
   ],
   "source": [
    "losses.plot()\n"
   ],
   "metadata": {
    "collapsed": false,
    "ExecuteTime": {
     "end_time": "2024-09-21T15:43:30.744013Z",
     "start_time": "2024-09-21T15:43:29.710584Z"
    }
   },
   "id": "d984921ef903b7a9",
   "execution_count": 30
  },
  {
   "cell_type": "code",
   "outputs": [
    {
     "data": {
      "text/plain": "(164, 3, 166)"
     },
     "execution_count": 45,
     "metadata": {},
     "output_type": "execute_result"
    }
   ],
   "source": [
    "X_test.shape"
   ],
   "metadata": {
    "collapsed": false,
    "ExecuteTime": {
     "end_time": "2024-09-19T16:10:02.877452Z",
     "start_time": "2024-09-19T16:10:02.871272Z"
    }
   },
   "id": "80bf8c5450607466",
   "execution_count": 45
  },
  {
   "cell_type": "code",
   "outputs": [
    {
     "ename": "ValueError",
     "evalue": "Exception encountered when calling Sequential.call().\n\n\u001B[1mInvalid input shape for input Tensor(\"data:0\", shape=(32, 3, 166), dtype=float32). Expected shape (None, 166), but input has incompatible shape (32, 3, 166)\u001B[0m\n\nArguments received by Sequential.call():\n  • inputs=tf.Tensor(shape=(32, 3, 166), dtype=float32)\n  • training=False\n  • mask=None",
     "output_type": "error",
     "traceback": [
      "\u001B[1;31m---------------------------------------------------------------------------\u001B[0m",
      "\u001B[1;31mValueError\u001B[0m                                Traceback (most recent call last)",
      "Cell \u001B[1;32mIn[46], line 1\u001B[0m\n\u001B[1;32m----> 1\u001B[0m predictions \u001B[38;5;241m=\u001B[39m model\u001B[38;5;241m.\u001B[39mpredict(X_test_seq)\n",
      "File \u001B[1;32m~\\AppData\\Roaming\\Python\\Python311\\site-packages\\keras\\src\\utils\\traceback_utils.py:122\u001B[0m, in \u001B[0;36mfilter_traceback.<locals>.error_handler\u001B[1;34m(*args, **kwargs)\u001B[0m\n\u001B[0;32m    119\u001B[0m     filtered_tb \u001B[38;5;241m=\u001B[39m _process_traceback_frames(e\u001B[38;5;241m.\u001B[39m__traceback__)\n\u001B[0;32m    120\u001B[0m     \u001B[38;5;66;03m# To get the full stack trace, call:\u001B[39;00m\n\u001B[0;32m    121\u001B[0m     \u001B[38;5;66;03m# `keras.config.disable_traceback_filtering()`\u001B[39;00m\n\u001B[1;32m--> 122\u001B[0m     \u001B[38;5;28;01mraise\u001B[39;00m e\u001B[38;5;241m.\u001B[39mwith_traceback(filtered_tb) \u001B[38;5;28;01mfrom\u001B[39;00m \u001B[38;5;28;01mNone\u001B[39;00m\n\u001B[0;32m    123\u001B[0m \u001B[38;5;28;01mfinally\u001B[39;00m:\n\u001B[0;32m    124\u001B[0m     \u001B[38;5;28;01mdel\u001B[39;00m filtered_tb\n",
      "File \u001B[1;32m~\\AppData\\Roaming\\Python\\Python311\\site-packages\\keras\\src\\models\\functional.py:244\u001B[0m, in \u001B[0;36mFunctional._adjust_input_rank\u001B[1;34m(self, flat_inputs)\u001B[0m\n\u001B[0;32m    242\u001B[0m             adjusted\u001B[38;5;241m.\u001B[39mappend(ops\u001B[38;5;241m.\u001B[39mexpand_dims(x, axis\u001B[38;5;241m=\u001B[39m\u001B[38;5;241m-\u001B[39m\u001B[38;5;241m1\u001B[39m))\n\u001B[0;32m    243\u001B[0m             \u001B[38;5;28;01mcontinue\u001B[39;00m\n\u001B[1;32m--> 244\u001B[0m     \u001B[38;5;28;01mraise\u001B[39;00m \u001B[38;5;167;01mValueError\u001B[39;00m(\n\u001B[0;32m    245\u001B[0m         \u001B[38;5;124mf\u001B[39m\u001B[38;5;124m\"\u001B[39m\u001B[38;5;124mInvalid input shape for input \u001B[39m\u001B[38;5;132;01m{\u001B[39;00mx\u001B[38;5;132;01m}\u001B[39;00m\u001B[38;5;124m. Expected shape \u001B[39m\u001B[38;5;124m\"\u001B[39m\n\u001B[0;32m    246\u001B[0m         \u001B[38;5;124mf\u001B[39m\u001B[38;5;124m\"\u001B[39m\u001B[38;5;132;01m{\u001B[39;00mref_shape\u001B[38;5;132;01m}\u001B[39;00m\u001B[38;5;124m, but input has incompatible shape \u001B[39m\u001B[38;5;132;01m{\u001B[39;00mx\u001B[38;5;241m.\u001B[39mshape\u001B[38;5;132;01m}\u001B[39;00m\u001B[38;5;124m\"\u001B[39m\n\u001B[0;32m    247\u001B[0m     )\n\u001B[0;32m    248\u001B[0m \u001B[38;5;66;03m# Add back metadata.\u001B[39;00m\n\u001B[0;32m    249\u001B[0m \u001B[38;5;28;01mfor\u001B[39;00m i \u001B[38;5;129;01min\u001B[39;00m \u001B[38;5;28mrange\u001B[39m(\u001B[38;5;28mlen\u001B[39m(flat_inputs)):\n",
      "\u001B[1;31mValueError\u001B[0m: Exception encountered when calling Sequential.call().\n\n\u001B[1mInvalid input shape for input Tensor(\"data:0\", shape=(32, 3, 166), dtype=float32). Expected shape (None, 166), but input has incompatible shape (32, 3, 166)\u001B[0m\n\nArguments received by Sequential.call():\n  • inputs=tf.Tensor(shape=(32, 3, 166), dtype=float32)\n  • training=False\n  • mask=None"
     ]
    }
   ],
   "source": [
    "predictions = model.predict(X_test)\n"
   ],
   "metadata": {
    "collapsed": false,
    "ExecuteTime": {
     "end_time": "2024-09-19T16:10:03.894112Z",
     "start_time": "2024-09-19T16:10:03.555668Z"
    }
   },
   "id": "c64f7179cb72aec8",
   "execution_count": 46
  },
  {
   "cell_type": "code",
   "outputs": [
    {
     "ename": "NameError",
     "evalue": "name 'predictions' is not defined",
     "output_type": "error",
     "traceback": [
      "\u001B[1;31m---------------------------------------------------------------------------\u001B[0m",
      "\u001B[1;31mNameError\u001B[0m                                 Traceback (most recent call last)",
      "Cell \u001B[1;32mIn[47], line 6\u001B[0m\n\u001B[0;32m      4\u001B[0m plt\u001B[38;5;241m.\u001B[39mfigure(figsize\u001B[38;5;241m=\u001B[39m(\u001B[38;5;241m14\u001B[39m, \u001B[38;5;241m7\u001B[39m))\n\u001B[0;32m      5\u001B[0m plt\u001B[38;5;241m.\u001B[39mplot(y_test_seq, label\u001B[38;5;241m=\u001B[39m\u001B[38;5;124m'\u001B[39m\u001B[38;5;124mGiá trị thực tế\u001B[39m\u001B[38;5;124m'\u001B[39m, color\u001B[38;5;241m=\u001B[39m\u001B[38;5;124m'\u001B[39m\u001B[38;5;124mblue\u001B[39m\u001B[38;5;124m'\u001B[39m)\n\u001B[1;32m----> 6\u001B[0m plt\u001B[38;5;241m.\u001B[39mplot(predictions, label\u001B[38;5;241m=\u001B[39m\u001B[38;5;124m'\u001B[39m\u001B[38;5;124mGiá trị dự đoán\u001B[39m\u001B[38;5;124m'\u001B[39m, color\u001B[38;5;241m=\u001B[39m\u001B[38;5;124m'\u001B[39m\u001B[38;5;124morange\u001B[39m\u001B[38;5;124m'\u001B[39m)\n\u001B[0;32m      7\u001B[0m plt\u001B[38;5;241m.\u001B[39mxlabel(\u001B[38;5;124m'\u001B[39m\u001B[38;5;124mSample\u001B[39m\u001B[38;5;124m'\u001B[39m)\n\u001B[0;32m      8\u001B[0m plt\u001B[38;5;241m.\u001B[39mylabel(\u001B[38;5;124m'\u001B[39m\u001B[38;5;124mPrice Absolute\u001B[39m\u001B[38;5;124m'\u001B[39m)\n",
      "\u001B[1;31mNameError\u001B[0m: name 'predictions' is not defined"
     ]
    },
    {
     "data": {
      "text/plain": "<Figure size 1400x700 with 1 Axes>",
      "image/png": "[encoded data removed]"
     },
     "metadata": {},
     "output_type": "display_data"
    }
   ],
   "source": [
    "import matplotlib.pyplot as plt\n",
    "\n",
    "# Vẽ biểu đồ\n",
    "plt.figure(figsize=(14, 7))\n",
    "plt.plot(y_test, label='Giá trị thực tế', color='blue')\n",
    "plt.plot(predictions, label='Giá trị dự đoán', color='orange')\n",
    "plt.xlabel('Sample')\n",
    "plt.ylabel('Price Absolute')\n",
    "plt.title('So sánh giữa giá trị thực tế và giá trị dự đoán')\n",
    "plt.legend()\n",
    "plt.show()\n"
   ],
   "metadata": {
    "collapsed": false,
    "ExecuteTime": {
     "end_time": "2024-09-19T16:10:26.995032Z",
     "start_time": "2024-09-19T16:10:26.771604Z"
    }
   },
   "id": "d374cd1cc011df2b",
   "execution_count": 47
  },
  {
   "cell_type": "code",
   "outputs": [],
   "source": [
    "from sklearn.metrics import mean_squared_error,mean_absolute_error,explained_variance_score\n"
   ],
   "metadata": {
    "collapsed": false,
    "ExecuteTime": {
     "end_time": "2024-08-29T12:01:51.397298Z",
     "start_time": "2024-08-29T12:01:51.392024Z"
    }
   },
   "id": "af6b9cdb8999ecca",
   "execution_count": 93
  },
  {
   "cell_type": "code",
   "outputs": [
    {
     "data": {
      "text/plain": "array([[[0., 0., 0., ..., 0., 0., 0.],\n        [0., 0., 0., ..., 0., 0., 0.],\n        [0., 0., 0., ..., 0., 0., 1.]],\n\n       [[0., 0., 0., ..., 0., 0., 0.],\n        [0., 0., 0., ..., 0., 0., 1.],\n        [0., 0., 0., ..., 0., 0., 0.]],\n\n       [[0., 0., 0., ..., 0., 0., 1.],\n        [0., 0., 0., ..., 0., 0., 0.],\n        [0., 0., 0., ..., 0., 0., 0.]],\n\n       ...,\n\n       [[0., 0., 0., ..., 0., 0., 0.],\n        [0., 0., 0., ..., 0., 0., 0.],\n        [0., 0., 0., ..., 0., 0., 0.]],\n\n       [[0., 0., 0., ..., 0., 0., 0.],\n        [0., 0., 0., ..., 0., 0., 0.],\n        [0., 0., 0., ..., 0., 0., 0.]],\n\n       [[0., 0., 0., ..., 0., 0., 0.],\n        [0., 0., 0., ..., 0., 0., 0.],\n        [0., 0., 0., ..., 0., 0., 0.]]])"
     },
     "execution_count": 99,
     "metadata": {},
     "output_type": "execute_result"
    }
   ],
   "source": [
    "X_test\n"
   ],
   "metadata": {
    "collapsed": false,
    "ExecuteTime": {
     "end_time": "2024-08-29T12:02:45.170638Z",
     "start_time": "2024-08-29T12:02:45.163379Z"
    }
   },
   "id": "131357f6a1db3394",
   "execution_count": 99
  },
  {
   "cell_type": "code",
   "outputs": [
    {
     "ename": "ValueError",
     "evalue": "Exception encountered when calling Sequential.call().\n\n\u001B[1mCannot take the length of shape with unknown rank.\u001B[0m\n\nArguments received by Sequential.call():\n  • inputs=tf.Tensor(shape=<unknown>, dtype=float32)\n  • training=False\n  • mask=None",
     "output_type": "error",
     "traceback": [
      "\u001B[1;31m---------------------------------------------------------------------------\u001B[0m",
      "\u001B[1;31mValueError\u001B[0m                                Traceback (most recent call last)",
      "Cell \u001B[1;32mIn[104], line 1\u001B[0m\n\u001B[1;32m----> 1\u001B[0m predictions \u001B[38;5;241m=\u001B[39m model\u001B[38;5;241m.\u001B[39mpredict(X_test_seq)\n",
      "File \u001B[1;32m~\\AppData\\Roaming\\Python\\Python311\\site-packages\\keras\\src\\utils\\traceback_utils.py:122\u001B[0m, in \u001B[0;36mfilter_traceback.<locals>.error_handler\u001B[1;34m(*args, **kwargs)\u001B[0m\n\u001B[0;32m    119\u001B[0m     filtered_tb \u001B[38;5;241m=\u001B[39m _process_traceback_frames(e\u001B[38;5;241m.\u001B[39m__traceback__)\n\u001B[0;32m    120\u001B[0m     \u001B[38;5;66;03m# To get the full stack trace, call:\u001B[39;00m\n\u001B[0;32m    121\u001B[0m     \u001B[38;5;66;03m# `keras.config.disable_traceback_filtering()`\u001B[39;00m\n\u001B[1;32m--> 122\u001B[0m     \u001B[38;5;28;01mraise\u001B[39;00m e\u001B[38;5;241m.\u001B[39mwith_traceback(filtered_tb) \u001B[38;5;28;01mfrom\u001B[39;00m \u001B[38;5;28;01mNone\u001B[39;00m\n\u001B[0;32m    123\u001B[0m \u001B[38;5;28;01mfinally\u001B[39;00m:\n\u001B[0;32m    124\u001B[0m     \u001B[38;5;28;01mdel\u001B[39;00m filtered_tb\n",
      "File \u001B[1;32m~\\AppData\\Roaming\\Python\\Python311\\site-packages\\keras\\src\\utils\\traceback_utils.py:122\u001B[0m, in \u001B[0;36mfilter_traceback.<locals>.error_handler\u001B[1;34m(*args, **kwargs)\u001B[0m\n\u001B[0;32m    119\u001B[0m     filtered_tb \u001B[38;5;241m=\u001B[39m _process_traceback_frames(e\u001B[38;5;241m.\u001B[39m__traceback__)\n\u001B[0;32m    120\u001B[0m     \u001B[38;5;66;03m# To get the full stack trace, call:\u001B[39;00m\n\u001B[0;32m    121\u001B[0m     \u001B[38;5;66;03m# `keras.config.disable_traceback_filtering()`\u001B[39;00m\n\u001B[1;32m--> 122\u001B[0m     \u001B[38;5;28;01mraise\u001B[39;00m e\u001B[38;5;241m.\u001B[39mwith_traceback(filtered_tb) \u001B[38;5;28;01mfrom\u001B[39;00m \u001B[38;5;28;01mNone\u001B[39;00m\n\u001B[0;32m    123\u001B[0m \u001B[38;5;28;01mfinally\u001B[39;00m:\n\u001B[0;32m    124\u001B[0m     \u001B[38;5;28;01mdel\u001B[39;00m filtered_tb\n",
      "\u001B[1;31mValueError\u001B[0m: Exception encountered when calling Sequential.call().\n\n\u001B[1mCannot take the length of shape with unknown rank.\u001B[0m\n\nArguments received by Sequential.call():\n  • inputs=tf.Tensor(shape=<unknown>, dtype=float32)\n  • training=False\n  • mask=None"
     ]
    }
   ],
   "source": [
    "predictions = model.predict(X_test)\n"
   ],
   "metadata": {
    "collapsed": false,
    "ExecuteTime": {
     "end_time": "2024-08-29T12:03:07.427269Z",
     "start_time": "2024-08-29T12:03:07.280689Z"
    }
   },
   "id": "41e229874cfad3e2",
   "execution_count": 104
  },
  {
   "cell_type": "code",
   "outputs": [
    {
     "data": {
      "text/plain": "24072.432508680555"
     },
     "execution_count": 101,
     "metadata": {},
     "output_type": "execute_result"
    }
   ],
   "source": [
    "mean_absolute_error(y_test,predictions)\n"
   ],
   "metadata": {
    "collapsed": false,
    "ExecuteTime": {
     "end_time": "2024-08-29T12:02:47.696644Z",
     "start_time": "2024-08-29T12:02:47.689484Z"
    }
   },
   "id": "fffc1f45293c4bd6",
   "execution_count": 101
  },
  {
   "cell_type": "code",
   "outputs": [
    {
     "data": {
      "text/plain": "32892.70126019844"
     },
     "execution_count": 102,
     "metadata": {},
     "output_type": "execute_result"
    }
   ],
   "source": [
    "np.sqrt(mean_squared_error(y_test,predictions))\n"
   ],
   "metadata": {
    "collapsed": false,
    "ExecuteTime": {
     "end_time": "2024-08-29T12:02:48.686708Z",
     "start_time": "2024-08-29T12:02:48.679883Z"
    }
   },
   "id": "4260caa0017691db",
   "execution_count": 102
  },
  {
   "cell_type": "code",
   "outputs": [
    {
     "data": {
      "text/plain": "0.24592698629170628"
     },
     "execution_count": 103,
     "metadata": {},
     "output_type": "execute_result"
    }
   ],
   "source": [
    "explained_variance_score(y_test,predictions)\n"
   ],
   "metadata": {
    "collapsed": false,
    "ExecuteTime": {
     "end_time": "2024-08-29T12:02:49.442555Z",
     "start_time": "2024-08-29T12:02:49.435318Z"
    }
   },
   "id": "5c497d6fbb19a99f",
   "execution_count": 103
  },
  {
   "cell_type": "code",
   "outputs": [
    {
     "data": {
      "text/plain": "33620.150251585976"
     },
     "execution_count": 65,
     "metadata": {},
     "output_type": "execute_result"
    }
   ],
   "source": [
    "data['price_absolute'].mean()\n"
   ],
   "metadata": {
    "collapsed": false,
    "ExecuteTime": {
     "end_time": "2024-08-29T10:58:20.503537Z",
     "start_time": "2024-08-29T10:58:20.496583Z"
    }
   },
   "id": "cc081ab416b03471",
   "execution_count": 65
  },
  {
   "cell_type": "code",
   "outputs": [
    {
     "ename": "ValueError",
     "evalue": "x and y must be the same size",
     "output_type": "error",
     "traceback": [
      "\u001B[1;31m---------------------------------------------------------------------------\u001B[0m",
      "\u001B[1;31mValueError\u001B[0m                                Traceback (most recent call last)",
      "Cell \u001B[1;32mIn[105], line 4\u001B[0m\n\u001B[0;32m      1\u001B[0m \u001B[38;5;28;01mfrom\u001B[39;00m \u001B[38;5;21;01mmatplotlib\u001B[39;00m \u001B[38;5;28;01mimport\u001B[39;00m pyplot \u001B[38;5;28;01mas\u001B[39;00m plt\n\u001B[0;32m      3\u001B[0m \u001B[38;5;66;03m# Our predictions\u001B[39;00m\n\u001B[1;32m----> 4\u001B[0m plt\u001B[38;5;241m.\u001B[39mscatter(y_test_seq,predictions)\n\u001B[0;32m      6\u001B[0m \u001B[38;5;66;03m# Perfect predictions\u001B[39;00m\n\u001B[0;32m      7\u001B[0m plt\u001B[38;5;241m.\u001B[39mplot(y_test_seq,y_test_seq,\u001B[38;5;124m'\u001B[39m\u001B[38;5;124mr\u001B[39m\u001B[38;5;124m'\u001B[39m)\n",
      "File \u001B[1;32mC:\\ProgramData\\anaconda3\\Lib\\site-packages\\matplotlib\\pyplot.py:2862\u001B[0m, in \u001B[0;36mscatter\u001B[1;34m(x, y, s, c, marker, cmap, norm, vmin, vmax, alpha, linewidths, edgecolors, plotnonfinite, data, **kwargs)\u001B[0m\n\u001B[0;32m   2857\u001B[0m \u001B[38;5;129m@_copy_docstring_and_deprecators\u001B[39m(Axes\u001B[38;5;241m.\u001B[39mscatter)\n\u001B[0;32m   2858\u001B[0m \u001B[38;5;28;01mdef\u001B[39;00m \u001B[38;5;21mscatter\u001B[39m(\n\u001B[0;32m   2859\u001B[0m         x, y, s\u001B[38;5;241m=\u001B[39m\u001B[38;5;28;01mNone\u001B[39;00m, c\u001B[38;5;241m=\u001B[39m\u001B[38;5;28;01mNone\u001B[39;00m, marker\u001B[38;5;241m=\u001B[39m\u001B[38;5;28;01mNone\u001B[39;00m, cmap\u001B[38;5;241m=\u001B[39m\u001B[38;5;28;01mNone\u001B[39;00m, norm\u001B[38;5;241m=\u001B[39m\u001B[38;5;28;01mNone\u001B[39;00m,\n\u001B[0;32m   2860\u001B[0m         vmin\u001B[38;5;241m=\u001B[39m\u001B[38;5;28;01mNone\u001B[39;00m, vmax\u001B[38;5;241m=\u001B[39m\u001B[38;5;28;01mNone\u001B[39;00m, alpha\u001B[38;5;241m=\u001B[39m\u001B[38;5;28;01mNone\u001B[39;00m, linewidths\u001B[38;5;241m=\u001B[39m\u001B[38;5;28;01mNone\u001B[39;00m, \u001B[38;5;241m*\u001B[39m,\n\u001B[0;32m   2861\u001B[0m         edgecolors\u001B[38;5;241m=\u001B[39m\u001B[38;5;28;01mNone\u001B[39;00m, plotnonfinite\u001B[38;5;241m=\u001B[39m\u001B[38;5;28;01mFalse\u001B[39;00m, data\u001B[38;5;241m=\u001B[39m\u001B[38;5;28;01mNone\u001B[39;00m, \u001B[38;5;241m*\u001B[39m\u001B[38;5;241m*\u001B[39mkwargs):\n\u001B[1;32m-> 2862\u001B[0m     __ret \u001B[38;5;241m=\u001B[39m gca()\u001B[38;5;241m.\u001B[39mscatter(\n\u001B[0;32m   2863\u001B[0m         x, y, s\u001B[38;5;241m=\u001B[39ms, c\u001B[38;5;241m=\u001B[39mc, marker\u001B[38;5;241m=\u001B[39mmarker, cmap\u001B[38;5;241m=\u001B[39mcmap, norm\u001B[38;5;241m=\u001B[39mnorm,\n\u001B[0;32m   2864\u001B[0m         vmin\u001B[38;5;241m=\u001B[39mvmin, vmax\u001B[38;5;241m=\u001B[39mvmax, alpha\u001B[38;5;241m=\u001B[39malpha, linewidths\u001B[38;5;241m=\u001B[39mlinewidths,\n\u001B[0;32m   2865\u001B[0m         edgecolors\u001B[38;5;241m=\u001B[39medgecolors, plotnonfinite\u001B[38;5;241m=\u001B[39mplotnonfinite,\n\u001B[0;32m   2866\u001B[0m         \u001B[38;5;241m*\u001B[39m\u001B[38;5;241m*\u001B[39m({\u001B[38;5;124m\"\u001B[39m\u001B[38;5;124mdata\u001B[39m\u001B[38;5;124m\"\u001B[39m: data} \u001B[38;5;28;01mif\u001B[39;00m data \u001B[38;5;129;01mis\u001B[39;00m \u001B[38;5;129;01mnot\u001B[39;00m \u001B[38;5;28;01mNone\u001B[39;00m \u001B[38;5;28;01melse\u001B[39;00m {}), \u001B[38;5;241m*\u001B[39m\u001B[38;5;241m*\u001B[39mkwargs)\n\u001B[0;32m   2867\u001B[0m     sci(__ret)\n\u001B[0;32m   2868\u001B[0m     \u001B[38;5;28;01mreturn\u001B[39;00m __ret\n",
      "File \u001B[1;32mC:\\ProgramData\\anaconda3\\Lib\\site-packages\\matplotlib\\__init__.py:1446\u001B[0m, in \u001B[0;36m_preprocess_data.<locals>.inner\u001B[1;34m(ax, data, *args, **kwargs)\u001B[0m\n\u001B[0;32m   1443\u001B[0m \u001B[38;5;129m@functools\u001B[39m\u001B[38;5;241m.\u001B[39mwraps(func)\n\u001B[0;32m   1444\u001B[0m \u001B[38;5;28;01mdef\u001B[39;00m \u001B[38;5;21minner\u001B[39m(ax, \u001B[38;5;241m*\u001B[39margs, data\u001B[38;5;241m=\u001B[39m\u001B[38;5;28;01mNone\u001B[39;00m, \u001B[38;5;241m*\u001B[39m\u001B[38;5;241m*\u001B[39mkwargs):\n\u001B[0;32m   1445\u001B[0m     \u001B[38;5;28;01mif\u001B[39;00m data \u001B[38;5;129;01mis\u001B[39;00m \u001B[38;5;28;01mNone\u001B[39;00m:\n\u001B[1;32m-> 1446\u001B[0m         \u001B[38;5;28;01mreturn\u001B[39;00m func(ax, \u001B[38;5;241m*\u001B[39m\u001B[38;5;28mmap\u001B[39m(sanitize_sequence, args), \u001B[38;5;241m*\u001B[39m\u001B[38;5;241m*\u001B[39mkwargs)\n\u001B[0;32m   1448\u001B[0m     bound \u001B[38;5;241m=\u001B[39m new_sig\u001B[38;5;241m.\u001B[39mbind(ax, \u001B[38;5;241m*\u001B[39margs, \u001B[38;5;241m*\u001B[39m\u001B[38;5;241m*\u001B[39mkwargs)\n\u001B[0;32m   1449\u001B[0m     auto_label \u001B[38;5;241m=\u001B[39m (bound\u001B[38;5;241m.\u001B[39marguments\u001B[38;5;241m.\u001B[39mget(label_namer)\n\u001B[0;32m   1450\u001B[0m                   \u001B[38;5;129;01mor\u001B[39;00m bound\u001B[38;5;241m.\u001B[39mkwargs\u001B[38;5;241m.\u001B[39mget(label_namer))\n",
      "File \u001B[1;32mC:\\ProgramData\\anaconda3\\Lib\\site-packages\\matplotlib\\axes\\_axes.py:4578\u001B[0m, in \u001B[0;36mAxes.scatter\u001B[1;34m(self, x, y, s, c, marker, cmap, norm, vmin, vmax, alpha, linewidths, edgecolors, plotnonfinite, **kwargs)\u001B[0m\n\u001B[0;32m   4576\u001B[0m y \u001B[38;5;241m=\u001B[39m np\u001B[38;5;241m.\u001B[39mma\u001B[38;5;241m.\u001B[39mravel(y)\n\u001B[0;32m   4577\u001B[0m \u001B[38;5;28;01mif\u001B[39;00m x\u001B[38;5;241m.\u001B[39msize \u001B[38;5;241m!=\u001B[39m y\u001B[38;5;241m.\u001B[39msize:\n\u001B[1;32m-> 4578\u001B[0m     \u001B[38;5;28;01mraise\u001B[39;00m \u001B[38;5;167;01mValueError\u001B[39;00m(\u001B[38;5;124m\"\u001B[39m\u001B[38;5;124mx and y must be the same size\u001B[39m\u001B[38;5;124m\"\u001B[39m)\n\u001B[0;32m   4580\u001B[0m \u001B[38;5;28;01mif\u001B[39;00m s \u001B[38;5;129;01mis\u001B[39;00m \u001B[38;5;28;01mNone\u001B[39;00m:\n\u001B[0;32m   4581\u001B[0m     s \u001B[38;5;241m=\u001B[39m (\u001B[38;5;241m20\u001B[39m \u001B[38;5;28;01mif\u001B[39;00m mpl\u001B[38;5;241m.\u001B[39mrcParams[\u001B[38;5;124m'\u001B[39m\u001B[38;5;124m_internal.classic_mode\u001B[39m\u001B[38;5;124m'\u001B[39m] \u001B[38;5;28;01melse\u001B[39;00m\n\u001B[0;32m   4582\u001B[0m          mpl\u001B[38;5;241m.\u001B[39mrcParams[\u001B[38;5;124m'\u001B[39m\u001B[38;5;124mlines.markersize\u001B[39m\u001B[38;5;124m'\u001B[39m] \u001B[38;5;241m*\u001B[39m\u001B[38;5;241m*\u001B[39m \u001B[38;5;241m2.0\u001B[39m)\n",
      "\u001B[1;31mValueError\u001B[0m: x and y must be the same size"
     ]
    },
    {
     "data": {
      "text/plain": "<Figure size 640x480 with 1 Axes>",
      "image/png": "[encoded data removed]"
     },
     "metadata": {},
     "output_type": "display_data"
    }
   ],
   "source": [
    "from matplotlib import pyplot as plt\n",
    "\n",
    "# Our predictions\n",
    "plt.scatter(y_test,predictions)\n",
    "\n",
    "# Perfect predictions\n",
    "plt.plot(y_test,y_test,'r')"
   ],
   "metadata": {
    "collapsed": false,
    "ExecuteTime": {
     "end_time": "2024-08-29T12:04:32.045397Z",
     "start_time": "2024-08-29T12:04:30.260637Z"
    }
   },
   "id": "caca0a63de9107bb",
   "execution_count": 105
  },
  {
   "cell_type": "code",
   "outputs": [],
   "source": [
    "single_house = data.drop('price_absolute',axis=1).iloc[1]\n"
   ],
   "metadata": {
    "collapsed": false,
    "ExecuteTime": {
     "end_time": "2024-08-29T10:58:20.991038Z",
     "start_time": "2024-08-29T10:58:20.984400Z"
    }
   },
   "id": "9504ad4e38272dc7",
   "execution_count": 67
  },
  {
   "cell_type": "code",
   "outputs": [
    {
     "data": {
      "text/plain": "province                   1\ndistrict                   5\nprice_unit                 1\nprice_value             22.0\narea                   132.0\n                       ...  \nstreet_ngõ Viện Máy    False\nstreet_Đông Quan       False\nstreet_Đường 800A      False\nstreet_Đồng Bát        False\nstreet_Đỗ Quang        False\nName: 1, Length: 183, dtype: object"
     },
     "execution_count": 66,
     "metadata": {},
     "output_type": "execute_result"
    }
   ],
   "source": [
    "single_house"
   ],
   "metadata": {
    "collapsed": false,
    "ExecuteTime": {
     "end_time": "2024-08-28T15:22:54.062130Z",
     "start_time": "2024-08-28T15:22:54.055091Z"
    }
   },
   "id": "740803faa4faf42d",
   "execution_count": 66
  },
  {
   "cell_type": "code",
   "outputs": [],
   "source": [
    "single_house = single_house.astype(np.float32)\n"
   ],
   "metadata": {
    "collapsed": false,
    "ExecuteTime": {
     "end_time": "2024-08-28T15:22:54.942215Z",
     "start_time": "2024-08-28T15:22:54.936934Z"
    }
   },
   "id": "b85412544fcaed52",
   "execution_count": 67
  },
  {
   "cell_type": "code",
   "outputs": [
    {
     "data": {
      "text/plain": "province                 1.0\ndistrict                 5.0\nprice_unit               1.0\nprice_value             22.0\narea                   132.0\n                       ...  \nstreet_ngõ Viện Máy      0.0\nstreet_Đông Quan         0.0\nstreet_Đường 800A        0.0\nstreet_Đồng Bát          0.0\nstreet_Đỗ Quang          0.0\nName: 1, Length: 183, dtype: float32"
     },
     "execution_count": 68,
     "metadata": {},
     "output_type": "execute_result"
    }
   ],
   "source": [
    "single_house"
   ],
   "metadata": {
    "collapsed": false,
    "ExecuteTime": {
     "end_time": "2024-08-28T15:22:55.901934Z",
     "start_time": "2024-08-28T15:22:55.892796Z"
    }
   },
   "id": "f7e9b7127e60457a",
   "execution_count": 68
  },
  {
   "cell_type": "code",
   "outputs": [
    {
     "data": {
      "text/plain": "province                     1\ndistrict                     5\nprice_unit                   1\nprice_value               22.0\nprice_absolute         22000.0\n                        ...   \nstreet_ngõ Viện Máy      False\nstreet_Đông Quan         False\nstreet_Đường 800A        False\nstreet_Đồng Bát          False\nstreet_Đỗ Quang          False\nName: 1, Length: 184, dtype: object"
     },
     "execution_count": 69,
     "metadata": {},
     "output_type": "execute_result"
    }
   ],
   "source": [
    "data.iloc[1]"
   ],
   "metadata": {
    "collapsed": false,
    "ExecuteTime": {
     "end_time": "2024-08-28T15:22:57.014003Z",
     "start_time": "2024-08-28T15:22:57.007006Z"
    }
   },
   "id": "d35ebf46865c1c7",
   "execution_count": 69
  },
  {
   "cell_type": "code",
   "outputs": [],
   "source": [],
   "metadata": {
    "collapsed": false
   },
   "id": "60cbee06141dee9c"
  }
 ],
 "metadata": {
  "kernelspec": {
   "display_name": "Python 3",
   "language": "python",
   "name": "python3"
  },
  "language_info": {
   "codemirror_mode": {
    "name": "ipython",
    "version": 2
   },
   "file_extension": ".py",
   "mimetype": "text/x-python",
   "name": "python",
   "nbconvert_exporter": "python",
   "pygments_lexer": "ipython2",
   "version": "2.7.6"
  }
 },
 "nbformat": 4,
 "nbformat_minor": 5
}
